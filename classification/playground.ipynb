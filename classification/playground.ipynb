{
 "cells": [
  {
   "cell_type": "code",
   "execution_count": 4,
   "metadata": {},
   "outputs": [],
   "source": [
    "# Import necessary libraries\n",
    "\n",
    "import pandas as pd\n",
    "import numpy as np\n",
    "import seaborn as sns\n",
    "import matplotlib.pyplot as plt\n",
    "%matplotlib inline\n",
    "from sklearn.preprocessing import LabelEncoder\n",
    "from sklearn.model_selection import train_test_split, cross_val_score\n",
    "from sklearn.linear_model import LogisticRegression\n",
    "from sklearn.tree import DecisionTreeClassifier\n",
    "from sklearn.metrics import accuracy_score\n",
    "import warnings\n",
    "warnings.filterwarnings('ignore')"
   ]
  },
  {
   "cell_type": "code",
   "execution_count": 5,
   "metadata": {},
   "outputs": [
    {
     "name": "stdout",
     "output_type": "stream",
     "text": [
      "<class 'pandas.core.frame.DataFrame'>\n",
      "RangeIndex: 5644 entries, 0 to 5643\n",
      "Columns: 111 entries, Patient ID to ctO2 (arterial blood gas analysis)\n",
      "dtypes: float64(70), int64(4), object(37)\n",
      "memory usage: 4.8+ MB\n"
     ]
    },
    {
     "data": {
      "text/html": [
       "<div>\n",
       "<style scoped>\n",
       "    .dataframe tbody tr th:only-of-type {\n",
       "        vertical-align: middle;\n",
       "    }\n",
       "\n",
       "    .dataframe tbody tr th {\n",
       "        vertical-align: top;\n",
       "    }\n",
       "\n",
       "    .dataframe thead th {\n",
       "        text-align: right;\n",
       "    }\n",
       "</style>\n",
       "<table border=\"1\" class=\"dataframe\">\n",
       "  <thead>\n",
       "    <tr style=\"text-align: right;\">\n",
       "      <th></th>\n",
       "      <th>Patient ID</th>\n",
       "      <th>Patient age quantile</th>\n",
       "      <th>SARS-Cov-2 exam result</th>\n",
       "      <th>Patient addmited to regular ward (1=yes, 0=no)</th>\n",
       "      <th>Patient addmited to semi-intensive unit (1=yes, 0=no)</th>\n",
       "      <th>Patient addmited to intensive care unit (1=yes, 0=no)</th>\n",
       "      <th>Hematocrit</th>\n",
       "      <th>Hemoglobin</th>\n",
       "      <th>Platelets</th>\n",
       "      <th>Mean platelet volume</th>\n",
       "      <th>...</th>\n",
       "      <th>Hb saturation (arterial blood gases)</th>\n",
       "      <th>pCO2 (arterial blood gas analysis)</th>\n",
       "      <th>Base excess (arterial blood gas analysis)</th>\n",
       "      <th>pH (arterial blood gas analysis)</th>\n",
       "      <th>Total CO2 (arterial blood gas analysis)</th>\n",
       "      <th>HCO3 (arterial blood gas analysis)</th>\n",
       "      <th>pO2 (arterial blood gas analysis)</th>\n",
       "      <th>Arteiral Fio2</th>\n",
       "      <th>Phosphor</th>\n",
       "      <th>ctO2 (arterial blood gas analysis)</th>\n",
       "    </tr>\n",
       "  </thead>\n",
       "  <tbody>\n",
       "    <tr>\n",
       "      <th>0</th>\n",
       "      <td>44477f75e8169d2</td>\n",
       "      <td>13</td>\n",
       "      <td>negative</td>\n",
       "      <td>0</td>\n",
       "      <td>0</td>\n",
       "      <td>0</td>\n",
       "      <td>NaN</td>\n",
       "      <td>NaN</td>\n",
       "      <td>NaN</td>\n",
       "      <td>NaN</td>\n",
       "      <td>...</td>\n",
       "      <td>NaN</td>\n",
       "      <td>NaN</td>\n",
       "      <td>NaN</td>\n",
       "      <td>NaN</td>\n",
       "      <td>NaN</td>\n",
       "      <td>NaN</td>\n",
       "      <td>NaN</td>\n",
       "      <td>NaN</td>\n",
       "      <td>NaN</td>\n",
       "      <td>NaN</td>\n",
       "    </tr>\n",
       "    <tr>\n",
       "      <th>1</th>\n",
       "      <td>126e9dd13932f68</td>\n",
       "      <td>17</td>\n",
       "      <td>negative</td>\n",
       "      <td>0</td>\n",
       "      <td>0</td>\n",
       "      <td>0</td>\n",
       "      <td>0.236515</td>\n",
       "      <td>-0.02234</td>\n",
       "      <td>-0.517413</td>\n",
       "      <td>0.010677</td>\n",
       "      <td>...</td>\n",
       "      <td>NaN</td>\n",
       "      <td>NaN</td>\n",
       "      <td>NaN</td>\n",
       "      <td>NaN</td>\n",
       "      <td>NaN</td>\n",
       "      <td>NaN</td>\n",
       "      <td>NaN</td>\n",
       "      <td>NaN</td>\n",
       "      <td>NaN</td>\n",
       "      <td>NaN</td>\n",
       "    </tr>\n",
       "    <tr>\n",
       "      <th>2</th>\n",
       "      <td>a46b4402a0e5696</td>\n",
       "      <td>8</td>\n",
       "      <td>negative</td>\n",
       "      <td>0</td>\n",
       "      <td>0</td>\n",
       "      <td>0</td>\n",
       "      <td>NaN</td>\n",
       "      <td>NaN</td>\n",
       "      <td>NaN</td>\n",
       "      <td>NaN</td>\n",
       "      <td>...</td>\n",
       "      <td>NaN</td>\n",
       "      <td>NaN</td>\n",
       "      <td>NaN</td>\n",
       "      <td>NaN</td>\n",
       "      <td>NaN</td>\n",
       "      <td>NaN</td>\n",
       "      <td>NaN</td>\n",
       "      <td>NaN</td>\n",
       "      <td>NaN</td>\n",
       "      <td>NaN</td>\n",
       "    </tr>\n",
       "    <tr>\n",
       "      <th>3</th>\n",
       "      <td>f7d619a94f97c45</td>\n",
       "      <td>5</td>\n",
       "      <td>negative</td>\n",
       "      <td>0</td>\n",
       "      <td>0</td>\n",
       "      <td>0</td>\n",
       "      <td>NaN</td>\n",
       "      <td>NaN</td>\n",
       "      <td>NaN</td>\n",
       "      <td>NaN</td>\n",
       "      <td>...</td>\n",
       "      <td>NaN</td>\n",
       "      <td>NaN</td>\n",
       "      <td>NaN</td>\n",
       "      <td>NaN</td>\n",
       "      <td>NaN</td>\n",
       "      <td>NaN</td>\n",
       "      <td>NaN</td>\n",
       "      <td>NaN</td>\n",
       "      <td>NaN</td>\n",
       "      <td>NaN</td>\n",
       "    </tr>\n",
       "    <tr>\n",
       "      <th>4</th>\n",
       "      <td>d9e41465789c2b5</td>\n",
       "      <td>15</td>\n",
       "      <td>negative</td>\n",
       "      <td>0</td>\n",
       "      <td>0</td>\n",
       "      <td>0</td>\n",
       "      <td>NaN</td>\n",
       "      <td>NaN</td>\n",
       "      <td>NaN</td>\n",
       "      <td>NaN</td>\n",
       "      <td>...</td>\n",
       "      <td>NaN</td>\n",
       "      <td>NaN</td>\n",
       "      <td>NaN</td>\n",
       "      <td>NaN</td>\n",
       "      <td>NaN</td>\n",
       "      <td>NaN</td>\n",
       "      <td>NaN</td>\n",
       "      <td>NaN</td>\n",
       "      <td>NaN</td>\n",
       "      <td>NaN</td>\n",
       "    </tr>\n",
       "  </tbody>\n",
       "</table>\n",
       "<p>5 rows × 111 columns</p>\n",
       "</div>"
      ],
      "text/plain": [
       "        Patient ID  Patient age quantile SARS-Cov-2 exam result  \\\n",
       "0  44477f75e8169d2                    13               negative   \n",
       "1  126e9dd13932f68                    17               negative   \n",
       "2  a46b4402a0e5696                     8               negative   \n",
       "3  f7d619a94f97c45                     5               negative   \n",
       "4  d9e41465789c2b5                    15               negative   \n",
       "\n",
       "   Patient addmited to regular ward (1=yes, 0=no)  \\\n",
       "0                                               0   \n",
       "1                                               0   \n",
       "2                                               0   \n",
       "3                                               0   \n",
       "4                                               0   \n",
       "\n",
       "   Patient addmited to semi-intensive unit (1=yes, 0=no)  \\\n",
       "0                                                  0       \n",
       "1                                                  0       \n",
       "2                                                  0       \n",
       "3                                                  0       \n",
       "4                                                  0       \n",
       "\n",
       "   Patient addmited to intensive care unit (1=yes, 0=no)  Hematocrit  \\\n",
       "0                                                  0             NaN   \n",
       "1                                                  0        0.236515   \n",
       "2                                                  0             NaN   \n",
       "3                                                  0             NaN   \n",
       "4                                                  0             NaN   \n",
       "\n",
       "   Hemoglobin  Platelets  Mean platelet volume   ...  \\\n",
       "0         NaN        NaN                    NaN  ...   \n",
       "1    -0.02234  -0.517413               0.010677  ...   \n",
       "2         NaN        NaN                    NaN  ...   \n",
       "3         NaN        NaN                    NaN  ...   \n",
       "4         NaN        NaN                    NaN  ...   \n",
       "\n",
       "   Hb saturation (arterial blood gases)  pCO2 (arterial blood gas analysis)  \\\n",
       "0                                   NaN                                 NaN   \n",
       "1                                   NaN                                 NaN   \n",
       "2                                   NaN                                 NaN   \n",
       "3                                   NaN                                 NaN   \n",
       "4                                   NaN                                 NaN   \n",
       "\n",
       "   Base excess (arterial blood gas analysis)  \\\n",
       "0                                        NaN   \n",
       "1                                        NaN   \n",
       "2                                        NaN   \n",
       "3                                        NaN   \n",
       "4                                        NaN   \n",
       "\n",
       "   pH (arterial blood gas analysis)  Total CO2 (arterial blood gas analysis)  \\\n",
       "0                               NaN                                      NaN   \n",
       "1                               NaN                                      NaN   \n",
       "2                               NaN                                      NaN   \n",
       "3                               NaN                                      NaN   \n",
       "4                               NaN                                      NaN   \n",
       "\n",
       "   HCO3 (arterial blood gas analysis)  pO2 (arterial blood gas analysis)  \\\n",
       "0                                 NaN                                NaN   \n",
       "1                                 NaN                                NaN   \n",
       "2                                 NaN                                NaN   \n",
       "3                                 NaN                                NaN   \n",
       "4                                 NaN                                NaN   \n",
       "\n",
       "   Arteiral Fio2  Phosphor  ctO2 (arterial blood gas analysis)  \n",
       "0            NaN       NaN                                 NaN  \n",
       "1            NaN       NaN                                 NaN  \n",
       "2            NaN       NaN                                 NaN  \n",
       "3            NaN       NaN                                 NaN  \n",
       "4            NaN       NaN                                 NaN  \n",
       "\n",
       "[5 rows x 111 columns]"
      ]
     },
     "execution_count": 5,
     "metadata": {},
     "output_type": "execute_result"
    }
   ],
   "source": [
    "# Take a glance at the provided data \n",
    "\n",
    "raw_data = pd.read_excel('data/dataset.xlsx', engine=\"openpyxl\")\n",
    "\n",
    "raw_data.info()\n",
    "raw_data.describe()\n",
    "raw_data.head()"
   ]
  },
  {
   "cell_type": "markdown",
   "metadata": {},
   "source": [
    "----"
   ]
  },
  {
   "cell_type": "markdown",
   "metadata": {},
   "source": [
    "> Data Observation\n",
    "\n",
    "The provided data contains 111 entries totally. The 3rd to 6th columns (```SARS-Cov-2 exam result```, etc) are the labels we want to predict. Other columns are features we can exploit to predict corresponding labels. However, these features look messed up now because many values of them are missing or intractable."
   ]
  },
  {
   "cell_type": "code",
   "execution_count": 6,
   "metadata": {},
   "outputs": [
    {
     "data": {
      "text/html": [
       "<div>\n",
       "<style scoped>\n",
       "    .dataframe tbody tr th:only-of-type {\n",
       "        vertical-align: middle;\n",
       "    }\n",
       "\n",
       "    .dataframe tbody tr th {\n",
       "        vertical-align: top;\n",
       "    }\n",
       "\n",
       "    .dataframe thead th {\n",
       "        text-align: right;\n",
       "    }\n",
       "</style>\n",
       "<table border=\"1\" class=\"dataframe\">\n",
       "  <thead>\n",
       "    <tr style=\"text-align: right;\">\n",
       "      <th></th>\n",
       "      <th>patient_id</th>\n",
       "      <th>patient_age_quantile</th>\n",
       "      <th>sars-cov-2_exam_result</th>\n",
       "      <th>patient_addmited_to_regular_ward_(1=yes,_0=no)</th>\n",
       "      <th>patient_addmited_to_semi-intensive_unit_(1=yes,_0=no)</th>\n",
       "      <th>patient_addmited_to_intensive_care_unit_(1=yes,_0=no)</th>\n",
       "      <th>hematocrit</th>\n",
       "      <th>hemoglobin</th>\n",
       "      <th>platelets</th>\n",
       "      <th>mean_platelet_volume</th>\n",
       "      <th>...</th>\n",
       "      <th>hb_saturation_(arterial_blood_gases)</th>\n",
       "      <th>pco2_(arterial_blood_gas_analysis)</th>\n",
       "      <th>base_excess_(arterial_blood_gas_analysis)</th>\n",
       "      <th>ph_(arterial_blood_gas_analysis)</th>\n",
       "      <th>total_co2_(arterial_blood_gas_analysis)</th>\n",
       "      <th>hco3_(arterial_blood_gas_analysis)</th>\n",
       "      <th>po2_(arterial_blood_gas_analysis)</th>\n",
       "      <th>arteiral_fio2</th>\n",
       "      <th>phosphor</th>\n",
       "      <th>cto2_(arterial_blood_gas_analysis)</th>\n",
       "    </tr>\n",
       "  </thead>\n",
       "  <tbody>\n",
       "    <tr>\n",
       "      <th>Total</th>\n",
       "      <td>0</td>\n",
       "      <td>0</td>\n",
       "      <td>0</td>\n",
       "      <td>0</td>\n",
       "      <td>0</td>\n",
       "      <td>0</td>\n",
       "      <td>5041</td>\n",
       "      <td>5041</td>\n",
       "      <td>5042</td>\n",
       "      <td>5045</td>\n",
       "      <td>...</td>\n",
       "      <td>5617</td>\n",
       "      <td>5617</td>\n",
       "      <td>5617</td>\n",
       "      <td>5617</td>\n",
       "      <td>5617</td>\n",
       "      <td>5617</td>\n",
       "      <td>5617</td>\n",
       "      <td>5624</td>\n",
       "      <td>5624</td>\n",
       "      <td>5617</td>\n",
       "    </tr>\n",
       "    <tr>\n",
       "      <th>Percent</th>\n",
       "      <td>0.0</td>\n",
       "      <td>0.0</td>\n",
       "      <td>0.0</td>\n",
       "      <td>0.0</td>\n",
       "      <td>0.0</td>\n",
       "      <td>0.0</td>\n",
       "      <td>89.316088</td>\n",
       "      <td>89.316088</td>\n",
       "      <td>89.333806</td>\n",
       "      <td>89.38696</td>\n",
       "      <td>...</td>\n",
       "      <td>99.521616</td>\n",
       "      <td>99.521616</td>\n",
       "      <td>99.521616</td>\n",
       "      <td>99.521616</td>\n",
       "      <td>99.521616</td>\n",
       "      <td>99.521616</td>\n",
       "      <td>99.521616</td>\n",
       "      <td>99.645641</td>\n",
       "      <td>99.645641</td>\n",
       "      <td>99.521616</td>\n",
       "    </tr>\n",
       "    <tr>\n",
       "      <th>Types</th>\n",
       "      <td>object</td>\n",
       "      <td>int64</td>\n",
       "      <td>object</td>\n",
       "      <td>int64</td>\n",
       "      <td>int64</td>\n",
       "      <td>int64</td>\n",
       "      <td>float64</td>\n",
       "      <td>float64</td>\n",
       "      <td>float64</td>\n",
       "      <td>float64</td>\n",
       "      <td>...</td>\n",
       "      <td>float64</td>\n",
       "      <td>float64</td>\n",
       "      <td>float64</td>\n",
       "      <td>float64</td>\n",
       "      <td>float64</td>\n",
       "      <td>float64</td>\n",
       "      <td>float64</td>\n",
       "      <td>float64</td>\n",
       "      <td>float64</td>\n",
       "      <td>float64</td>\n",
       "    </tr>\n",
       "  </tbody>\n",
       "</table>\n",
       "<p>3 rows × 111 columns</p>\n",
       "</div>"
      ],
      "text/plain": [
       "        patient_id patient_age_quantile sars-cov-2_exam_result  \\\n",
       "Total            0                    0                      0   \n",
       "Percent        0.0                  0.0                    0.0   \n",
       "Types       object                int64                 object   \n",
       "\n",
       "        patient_addmited_to_regular_ward_(1=yes,_0=no)  \\\n",
       "Total                                                0   \n",
       "Percent                                            0.0   \n",
       "Types                                            int64   \n",
       "\n",
       "        patient_addmited_to_semi-intensive_unit_(1=yes,_0=no)  \\\n",
       "Total                                                    0      \n",
       "Percent                                                0.0      \n",
       "Types                                                int64      \n",
       "\n",
       "        patient_addmited_to_intensive_care_unit_(1=yes,_0=no) hematocrit  \\\n",
       "Total                                                    0          5041   \n",
       "Percent                                                0.0     89.316088   \n",
       "Types                                                int64       float64   \n",
       "\n",
       "        hemoglobin  platelets mean_platelet_volume  ...  \\\n",
       "Total         5041       5042                 5045  ...   \n",
       "Percent  89.316088  89.333806             89.38696  ...   \n",
       "Types      float64    float64              float64  ...   \n",
       "\n",
       "        hb_saturation_(arterial_blood_gases)  \\\n",
       "Total                                   5617   \n",
       "Percent                            99.521616   \n",
       "Types                                float64   \n",
       "\n",
       "        pco2_(arterial_blood_gas_analysis)  \\\n",
       "Total                                 5617   \n",
       "Percent                          99.521616   \n",
       "Types                              float64   \n",
       "\n",
       "        base_excess_(arterial_blood_gas_analysis)  \\\n",
       "Total                                        5617   \n",
       "Percent                                 99.521616   \n",
       "Types                                     float64   \n",
       "\n",
       "        ph_(arterial_blood_gas_analysis)  \\\n",
       "Total                               5617   \n",
       "Percent                        99.521616   \n",
       "Types                            float64   \n",
       "\n",
       "        total_co2_(arterial_blood_gas_analysis)  \\\n",
       "Total                                      5617   \n",
       "Percent                               99.521616   \n",
       "Types                                   float64   \n",
       "\n",
       "        hco3_(arterial_blood_gas_analysis) po2_(arterial_blood_gas_analysis)  \\\n",
       "Total                                 5617                              5617   \n",
       "Percent                          99.521616                         99.521616   \n",
       "Types                              float64                           float64   \n",
       "\n",
       "        arteiral_fio2   phosphor cto2_(arterial_blood_gas_analysis)  \n",
       "Total            5624       5624                               5617  \n",
       "Percent     99.645641  99.645641                          99.521616  \n",
       "Types         float64    float64                            float64  \n",
       "\n",
       "[3 rows x 111 columns]"
      ]
     },
     "execution_count": 6,
     "metadata": {},
     "output_type": "execute_result"
    }
   ],
   "source": [
    "# Data preprocessing\n",
    "\n",
    "raw_data.columns = [x.lower().strip().replace(' ','_') for x in raw_data.columns]\n",
    "\n",
    "def show_missing_features(x):\n",
    "    total = x.isnull().sum()\n",
    "    percent = (x.isnull().sum()/x.isnull().count()*100)\n",
    "    tt = pd.concat([total, percent], axis=1, keys=['Total', 'Percent'])\n",
    "    types = []\n",
    "    for col in raw_data.columns:\n",
    "        dtype = str(x[col].dtype)\n",
    "        types.append(dtype)\n",
    "    tt['Types'] = types\n",
    "    return(np.transpose(tt))\n",
    "\n",
    "show_missing_features(raw_data)"
   ]
  },
  {
   "cell_type": "markdown",
   "metadata": {},
   "source": [
    "---"
   ]
  },
  {
   "cell_type": "markdown",
   "metadata": {},
   "source": [
    "> Fill Missing Cells\n",
    "\n",
    "From the table above, we can clearly see the data type and missing percentage of each feature. A simple approach is filling missing cells with the mean value of existing non-nan cells, or a constant. As for label-typed features, we use ```LabelEncoder```. See [sklearn.preprocessing](https://scikit-learn.org/stable/modules/preprocessing.html) for more details!"
   ]
  },
  {
   "cell_type": "code",
   "execution_count": 8,
   "metadata": {},
   "outputs": [
    {
     "data": {
      "text/html": [
       "<div>\n",
       "<style scoped>\n",
       "    .dataframe tbody tr th:only-of-type {\n",
       "        vertical-align: middle;\n",
       "    }\n",
       "\n",
       "    .dataframe tbody tr th {\n",
       "        vertical-align: top;\n",
       "    }\n",
       "\n",
       "    .dataframe thead th {\n",
       "        text-align: right;\n",
       "    }\n",
       "</style>\n",
       "<table border=\"1\" class=\"dataframe\">\n",
       "  <thead>\n",
       "    <tr style=\"text-align: right;\">\n",
       "      <th></th>\n",
       "      <th>patient_id</th>\n",
       "      <th>patient_age_quantile</th>\n",
       "      <th>sars-cov-2_exam_result</th>\n",
       "      <th>patient_addmited_to_regular_ward_(1=yes,_0=no)</th>\n",
       "      <th>patient_addmited_to_semi-intensive_unit_(1=yes,_0=no)</th>\n",
       "      <th>patient_addmited_to_intensive_care_unit_(1=yes,_0=no)</th>\n",
       "      <th>hematocrit</th>\n",
       "      <th>hemoglobin</th>\n",
       "      <th>platelets</th>\n",
       "      <th>mean_platelet_volume</th>\n",
       "      <th>...</th>\n",
       "      <th>hb_saturation_(arterial_blood_gases)</th>\n",
       "      <th>pco2_(arterial_blood_gas_analysis)</th>\n",
       "      <th>base_excess_(arterial_blood_gas_analysis)</th>\n",
       "      <th>ph_(arterial_blood_gas_analysis)</th>\n",
       "      <th>total_co2_(arterial_blood_gas_analysis)</th>\n",
       "      <th>hco3_(arterial_blood_gas_analysis)</th>\n",
       "      <th>po2_(arterial_blood_gas_analysis)</th>\n",
       "      <th>arteiral_fio2</th>\n",
       "      <th>phosphor</th>\n",
       "      <th>cto2_(arterial_blood_gas_analysis)</th>\n",
       "    </tr>\n",
       "  </thead>\n",
       "  <tbody>\n",
       "    <tr>\n",
       "      <th>0</th>\n",
       "      <td>1588</td>\n",
       "      <td>13</td>\n",
       "      <td>0</td>\n",
       "      <td>0</td>\n",
       "      <td>0</td>\n",
       "      <td>0</td>\n",
       "      <td>-2.186214e-09</td>\n",
       "      <td>-1.601319e-08</td>\n",
       "      <td>-3.535004e-10</td>\n",
       "      <td>7.438142e-09</td>\n",
       "      <td>...</td>\n",
       "      <td>-1.379737e-10</td>\n",
       "      <td>8.416397e-09</td>\n",
       "      <td>-1.655685e-09</td>\n",
       "      <td>4.139211e-10</td>\n",
       "      <td>-7.472139e-09</td>\n",
       "      <td>6.070843e-09</td>\n",
       "      <td>-2.469729e-08</td>\n",
       "      <td>4.656613e-09</td>\n",
       "      <td>6.332993e-09</td>\n",
       "      <td>5.243001e-09</td>\n",
       "    </tr>\n",
       "    <tr>\n",
       "      <th>1</th>\n",
       "      <td>451</td>\n",
       "      <td>17</td>\n",
       "      <td>0</td>\n",
       "      <td>0</td>\n",
       "      <td>0</td>\n",
       "      <td>0</td>\n",
       "      <td>2.365154e-01</td>\n",
       "      <td>-2.234027e-02</td>\n",
       "      <td>-5.174130e-01</td>\n",
       "      <td>1.067657e-02</td>\n",
       "      <td>...</td>\n",
       "      <td>-1.379737e-10</td>\n",
       "      <td>8.416397e-09</td>\n",
       "      <td>-1.655685e-09</td>\n",
       "      <td>4.139211e-10</td>\n",
       "      <td>-7.472139e-09</td>\n",
       "      <td>6.070843e-09</td>\n",
       "      <td>-2.469729e-08</td>\n",
       "      <td>4.656613e-09</td>\n",
       "      <td>6.332993e-09</td>\n",
       "      <td>5.243001e-09</td>\n",
       "    </tr>\n",
       "    <tr>\n",
       "      <th>2</th>\n",
       "      <td>3669</td>\n",
       "      <td>8</td>\n",
       "      <td>0</td>\n",
       "      <td>0</td>\n",
       "      <td>0</td>\n",
       "      <td>0</td>\n",
       "      <td>-2.186214e-09</td>\n",
       "      <td>-1.601319e-08</td>\n",
       "      <td>-3.535004e-10</td>\n",
       "      <td>7.438142e-09</td>\n",
       "      <td>...</td>\n",
       "      <td>-1.379737e-10</td>\n",
       "      <td>8.416397e-09</td>\n",
       "      <td>-1.655685e-09</td>\n",
       "      <td>4.139211e-10</td>\n",
       "      <td>-7.472139e-09</td>\n",
       "      <td>6.070843e-09</td>\n",
       "      <td>-2.469729e-08</td>\n",
       "      <td>4.656613e-09</td>\n",
       "      <td>6.332993e-09</td>\n",
       "      <td>5.243001e-09</td>\n",
       "    </tr>\n",
       "    <tr>\n",
       "      <th>3</th>\n",
       "      <td>5457</td>\n",
       "      <td>5</td>\n",
       "      <td>0</td>\n",
       "      <td>0</td>\n",
       "      <td>0</td>\n",
       "      <td>0</td>\n",
       "      <td>-2.186214e-09</td>\n",
       "      <td>-1.601319e-08</td>\n",
       "      <td>-3.535004e-10</td>\n",
       "      <td>7.438142e-09</td>\n",
       "      <td>...</td>\n",
       "      <td>-1.379737e-10</td>\n",
       "      <td>8.416397e-09</td>\n",
       "      <td>-1.655685e-09</td>\n",
       "      <td>4.139211e-10</td>\n",
       "      <td>-7.472139e-09</td>\n",
       "      <td>6.070843e-09</td>\n",
       "      <td>-2.469729e-08</td>\n",
       "      <td>4.656613e-09</td>\n",
       "      <td>6.332993e-09</td>\n",
       "      <td>5.243001e-09</td>\n",
       "    </tr>\n",
       "    <tr>\n",
       "      <th>4</th>\n",
       "      <td>4843</td>\n",
       "      <td>15</td>\n",
       "      <td>0</td>\n",
       "      <td>0</td>\n",
       "      <td>0</td>\n",
       "      <td>0</td>\n",
       "      <td>-2.186214e-09</td>\n",
       "      <td>-1.601319e-08</td>\n",
       "      <td>-3.535004e-10</td>\n",
       "      <td>7.438142e-09</td>\n",
       "      <td>...</td>\n",
       "      <td>-1.379737e-10</td>\n",
       "      <td>8.416397e-09</td>\n",
       "      <td>-1.655685e-09</td>\n",
       "      <td>4.139211e-10</td>\n",
       "      <td>-7.472139e-09</td>\n",
       "      <td>6.070843e-09</td>\n",
       "      <td>-2.469729e-08</td>\n",
       "      <td>4.656613e-09</td>\n",
       "      <td>6.332993e-09</td>\n",
       "      <td>5.243001e-09</td>\n",
       "    </tr>\n",
       "  </tbody>\n",
       "</table>\n",
       "<p>5 rows × 111 columns</p>\n",
       "</div>"
      ],
      "text/plain": [
       "   patient_id  patient_age_quantile  sars-cov-2_exam_result  \\\n",
       "0        1588                    13                       0   \n",
       "1         451                    17                       0   \n",
       "2        3669                     8                       0   \n",
       "3        5457                     5                       0   \n",
       "4        4843                    15                       0   \n",
       "\n",
       "   patient_addmited_to_regular_ward_(1=yes,_0=no)  \\\n",
       "0                                               0   \n",
       "1                                               0   \n",
       "2                                               0   \n",
       "3                                               0   \n",
       "4                                               0   \n",
       "\n",
       "   patient_addmited_to_semi-intensive_unit_(1=yes,_0=no)  \\\n",
       "0                                                  0       \n",
       "1                                                  0       \n",
       "2                                                  0       \n",
       "3                                                  0       \n",
       "4                                                  0       \n",
       "\n",
       "   patient_addmited_to_intensive_care_unit_(1=yes,_0=no)    hematocrit  \\\n",
       "0                                                  0     -2.186214e-09   \n",
       "1                                                  0      2.365154e-01   \n",
       "2                                                  0     -2.186214e-09   \n",
       "3                                                  0     -2.186214e-09   \n",
       "4                                                  0     -2.186214e-09   \n",
       "\n",
       "     hemoglobin     platelets  mean_platelet_volume  ...  \\\n",
       "0 -1.601319e-08 -3.535004e-10          7.438142e-09  ...   \n",
       "1 -2.234027e-02 -5.174130e-01          1.067657e-02  ...   \n",
       "2 -1.601319e-08 -3.535004e-10          7.438142e-09  ...   \n",
       "3 -1.601319e-08 -3.535004e-10          7.438142e-09  ...   \n",
       "4 -1.601319e-08 -3.535004e-10          7.438142e-09  ...   \n",
       "\n",
       "   hb_saturation_(arterial_blood_gases)  pco2_(arterial_blood_gas_analysis)  \\\n",
       "0                         -1.379737e-10                        8.416397e-09   \n",
       "1                         -1.379737e-10                        8.416397e-09   \n",
       "2                         -1.379737e-10                        8.416397e-09   \n",
       "3                         -1.379737e-10                        8.416397e-09   \n",
       "4                         -1.379737e-10                        8.416397e-09   \n",
       "\n",
       "   base_excess_(arterial_blood_gas_analysis)  \\\n",
       "0                              -1.655685e-09   \n",
       "1                              -1.655685e-09   \n",
       "2                              -1.655685e-09   \n",
       "3                              -1.655685e-09   \n",
       "4                              -1.655685e-09   \n",
       "\n",
       "   ph_(arterial_blood_gas_analysis)  total_co2_(arterial_blood_gas_analysis)  \\\n",
       "0                      4.139211e-10                            -7.472139e-09   \n",
       "1                      4.139211e-10                            -7.472139e-09   \n",
       "2                      4.139211e-10                            -7.472139e-09   \n",
       "3                      4.139211e-10                            -7.472139e-09   \n",
       "4                      4.139211e-10                            -7.472139e-09   \n",
       "\n",
       "   hco3_(arterial_blood_gas_analysis)  po2_(arterial_blood_gas_analysis)  \\\n",
       "0                        6.070843e-09                      -2.469729e-08   \n",
       "1                        6.070843e-09                      -2.469729e-08   \n",
       "2                        6.070843e-09                      -2.469729e-08   \n",
       "3                        6.070843e-09                      -2.469729e-08   \n",
       "4                        6.070843e-09                      -2.469729e-08   \n",
       "\n",
       "   arteiral_fio2      phosphor  cto2_(arterial_blood_gas_analysis)  \n",
       "0   4.656613e-09  6.332993e-09                        5.243001e-09  \n",
       "1   4.656613e-09  6.332993e-09                        5.243001e-09  \n",
       "2   4.656613e-09  6.332993e-09                        5.243001e-09  \n",
       "3   4.656613e-09  6.332993e-09                        5.243001e-09  \n",
       "4   4.656613e-09  6.332993e-09                        5.243001e-09  \n",
       "\n",
       "[5 rows x 111 columns]"
      ]
     },
     "execution_count": 8,
     "metadata": {},
     "output_type": "execute_result"
    }
   ],
   "source": [
    "# Fill in missing features\n",
    "\n",
    "for x in raw_data.columns:\n",
    "    if raw_data[x].dtype=='float16' or  raw_data[x].dtype=='float32' or  raw_data[x].dtype=='float64':\n",
    "        # raw_data[x].fillna(raw_data[x].mean())\n",
    "        raw_data[x].fillna(raw_data[x].mean(skipna=True), inplace=True)\n",
    "\n",
    "raw_data = raw_data.fillna(-999)\n",
    "\n",
    "# Convert label-typed features\n",
    "for y in raw_data.columns:\n",
    "    if raw_data[y].dtype=='object': \n",
    "        lbl = LabelEncoder()\n",
    "        lbl.fit(list(raw_data[y].values))\n",
    "        raw_data[y] = lbl.transform(list(raw_data[y].values))\n",
    "\n",
    "raw_data.head(5)"
   ]
  },
  {
   "cell_type": "markdown",
   "metadata": {},
   "source": [
    "---"
   ]
  },
  {
   "cell_type": "markdown",
   "metadata": {},
   "source": [
    "> Feature Engineering\n",
    "\n",
    "Feature engineering is always the most time-consuming and energy-consuming part of data analysis. And it is not a deterministic step like algorithms and models, but more about engineering experience and trade-offs. \n",
    "\n",
    "Here we provide a simple intuition to select useful features: we calculate the correlations between each feature as the covariance matrix, and then remove the features highly correlated with others (which means this column can be easily linear-combined by others). "
   ]
  },
  {
   "cell_type": "code",
   "execution_count": 9,
   "metadata": {},
   "outputs": [
    {
     "data": {
      "text/html": [
       "<div>\n",
       "<style scoped>\n",
       "    .dataframe tbody tr th:only-of-type {\n",
       "        vertical-align: middle;\n",
       "    }\n",
       "\n",
       "    .dataframe tbody tr th {\n",
       "        vertical-align: top;\n",
       "    }\n",
       "\n",
       "    .dataframe thead th {\n",
       "        text-align: right;\n",
       "    }\n",
       "</style>\n",
       "<table border=\"1\" class=\"dataframe\">\n",
       "  <thead>\n",
       "    <tr style=\"text-align: right;\">\n",
       "      <th></th>\n",
       "      <th>patient_id</th>\n",
       "      <th>patient_age_quantile</th>\n",
       "      <th>sars-cov-2_exam_result</th>\n",
       "      <th>patient_addmited_to_regular_ward_(1=yes,_0=no)</th>\n",
       "      <th>patient_addmited_to_semi-intensive_unit_(1=yes,_0=no)</th>\n",
       "      <th>patient_addmited_to_intensive_care_unit_(1=yes,_0=no)</th>\n",
       "      <th>hematocrit</th>\n",
       "      <th>hemoglobin</th>\n",
       "      <th>platelets</th>\n",
       "      <th>mean_platelet_volume</th>\n",
       "      <th>...</th>\n",
       "      <th>hb_saturation_(arterial_blood_gases)</th>\n",
       "      <th>pco2_(arterial_blood_gas_analysis)</th>\n",
       "      <th>base_excess_(arterial_blood_gas_analysis)</th>\n",
       "      <th>ph_(arterial_blood_gas_analysis)</th>\n",
       "      <th>total_co2_(arterial_blood_gas_analysis)</th>\n",
       "      <th>hco3_(arterial_blood_gas_analysis)</th>\n",
       "      <th>po2_(arterial_blood_gas_analysis)</th>\n",
       "      <th>arteiral_fio2</th>\n",
       "      <th>phosphor</th>\n",
       "      <th>cto2_(arterial_blood_gas_analysis)</th>\n",
       "    </tr>\n",
       "  </thead>\n",
       "  <tbody>\n",
       "    <tr>\n",
       "      <th>patient_id</th>\n",
       "      <td>NaN</td>\n",
       "      <td>0.014136</td>\n",
       "      <td>0.018664</td>\n",
       "      <td>0.003748</td>\n",
       "      <td>0.004803</td>\n",
       "      <td>0.000162</td>\n",
       "      <td>0.020071</td>\n",
       "      <td>0.014706</td>\n",
       "      <td>0.006948</td>\n",
       "      <td>0.008635</td>\n",
       "      <td>...</td>\n",
       "      <td>0.011604</td>\n",
       "      <td>0.011653</td>\n",
       "      <td>0.002840</td>\n",
       "      <td>0.010472</td>\n",
       "      <td>0.005338</td>\n",
       "      <td>0.004317</td>\n",
       "      <td>0.005510</td>\n",
       "      <td>0.021115</td>\n",
       "      <td>5.294190e-03</td>\n",
       "      <td>0.003037</td>\n",
       "    </tr>\n",
       "    <tr>\n",
       "      <th>patient_age_quantile</th>\n",
       "      <td>NaN</td>\n",
       "      <td>NaN</td>\n",
       "      <td>0.075244</td>\n",
       "      <td>0.046166</td>\n",
       "      <td>0.015736</td>\n",
       "      <td>0.035772</td>\n",
       "      <td>0.031292</td>\n",
       "      <td>0.019498</td>\n",
       "      <td>0.051183</td>\n",
       "      <td>0.038392</td>\n",
       "      <td>...</td>\n",
       "      <td>0.016286</td>\n",
       "      <td>0.034110</td>\n",
       "      <td>0.041484</td>\n",
       "      <td>0.041507</td>\n",
       "      <td>0.006264</td>\n",
       "      <td>0.012090</td>\n",
       "      <td>0.007157</td>\n",
       "      <td>0.021239</td>\n",
       "      <td>4.135060e-02</td>\n",
       "      <td>0.004455</td>\n",
       "    </tr>\n",
       "    <tr>\n",
       "      <th>sars-cov-2_exam_result</th>\n",
       "      <td>NaN</td>\n",
       "      <td>NaN</td>\n",
       "      <td>NaN</td>\n",
       "      <td>0.142437</td>\n",
       "      <td>0.019364</td>\n",
       "      <td>0.027586</td>\n",
       "      <td>0.037396</td>\n",
       "      <td>0.039530</td>\n",
       "      <td>0.106482</td>\n",
       "      <td>0.040622</td>\n",
       "      <td>...</td>\n",
       "      <td>0.015189</td>\n",
       "      <td>0.037511</td>\n",
       "      <td>0.015111</td>\n",
       "      <td>0.036451</td>\n",
       "      <td>0.028879</td>\n",
       "      <td>0.024761</td>\n",
       "      <td>0.036186</td>\n",
       "      <td>0.030815</td>\n",
       "      <td>5.314858e-03</td>\n",
       "      <td>0.030967</td>\n",
       "    </tr>\n",
       "    <tr>\n",
       "      <th>patient_addmited_to_regular_ward_(1=yes,_0=no)</th>\n",
       "      <td>NaN</td>\n",
       "      <td>NaN</td>\n",
       "      <td>NaN</td>\n",
       "      <td>NaN</td>\n",
       "      <td>0.011264</td>\n",
       "      <td>0.010192</td>\n",
       "      <td>0.071569</td>\n",
       "      <td>0.075363</td>\n",
       "      <td>0.150186</td>\n",
       "      <td>0.010687</td>\n",
       "      <td>...</td>\n",
       "      <td>0.051133</td>\n",
       "      <td>0.058510</td>\n",
       "      <td>0.008632</td>\n",
       "      <td>0.052540</td>\n",
       "      <td>0.041230</td>\n",
       "      <td>0.034427</td>\n",
       "      <td>0.027247</td>\n",
       "      <td>0.040326</td>\n",
       "      <td>1.377290e-18</td>\n",
       "      <td>0.070462</td>\n",
       "    </tr>\n",
       "    <tr>\n",
       "      <th>patient_addmited_to_semi-intensive_unit_(1=yes,_0=no)</th>\n",
       "      <td>NaN</td>\n",
       "      <td>NaN</td>\n",
       "      <td>NaN</td>\n",
       "      <td>NaN</td>\n",
       "      <td>NaN</td>\n",
       "      <td>0.008087</td>\n",
       "      <td>0.161800</td>\n",
       "      <td>0.157295</td>\n",
       "      <td>0.006185</td>\n",
       "      <td>0.020840</td>\n",
       "      <td>...</td>\n",
       "      <td>0.199293</td>\n",
       "      <td>0.040333</td>\n",
       "      <td>0.080640</td>\n",
       "      <td>0.063793</td>\n",
       "      <td>0.040144</td>\n",
       "      <td>0.048656</td>\n",
       "      <td>0.120723</td>\n",
       "      <td>0.025106</td>\n",
       "      <td>5.392442e-02</td>\n",
       "      <td>0.017481</td>\n",
       "    </tr>\n",
       "  </tbody>\n",
       "</table>\n",
       "<p>5 rows × 111 columns</p>\n",
       "</div>"
      ],
      "text/plain": [
       "                                                    patient_id  \\\n",
       "patient_id                                                 NaN   \n",
       "patient_age_quantile                                       NaN   \n",
       "sars-cov-2_exam_result                                     NaN   \n",
       "patient_addmited_to_regular_ward_(1=yes,_0=no)             NaN   \n",
       "patient_addmited_to_semi-intensive_unit_(1=yes,...         NaN   \n",
       "\n",
       "                                                    patient_age_quantile  \\\n",
       "patient_id                                                      0.014136   \n",
       "patient_age_quantile                                                 NaN   \n",
       "sars-cov-2_exam_result                                               NaN   \n",
       "patient_addmited_to_regular_ward_(1=yes,_0=no)                       NaN   \n",
       "patient_addmited_to_semi-intensive_unit_(1=yes,...                   NaN   \n",
       "\n",
       "                                                    sars-cov-2_exam_result  \\\n",
       "patient_id                                                        0.018664   \n",
       "patient_age_quantile                                              0.075244   \n",
       "sars-cov-2_exam_result                                                 NaN   \n",
       "patient_addmited_to_regular_ward_(1=yes,_0=no)                         NaN   \n",
       "patient_addmited_to_semi-intensive_unit_(1=yes,...                     NaN   \n",
       "\n",
       "                                                    patient_addmited_to_regular_ward_(1=yes,_0=no)  \\\n",
       "patient_id                                                                                0.003748   \n",
       "patient_age_quantile                                                                      0.046166   \n",
       "sars-cov-2_exam_result                                                                    0.142437   \n",
       "patient_addmited_to_regular_ward_(1=yes,_0=no)                                                 NaN   \n",
       "patient_addmited_to_semi-intensive_unit_(1=yes,...                                             NaN   \n",
       "\n",
       "                                                    patient_addmited_to_semi-intensive_unit_(1=yes,_0=no)  \\\n",
       "patient_id                                                                                   0.004803       \n",
       "patient_age_quantile                                                                         0.015736       \n",
       "sars-cov-2_exam_result                                                                       0.019364       \n",
       "patient_addmited_to_regular_ward_(1=yes,_0=no)                                               0.011264       \n",
       "patient_addmited_to_semi-intensive_unit_(1=yes,...                                                NaN       \n",
       "\n",
       "                                                    patient_addmited_to_intensive_care_unit_(1=yes,_0=no)  \\\n",
       "patient_id                                                                                   0.000162       \n",
       "patient_age_quantile                                                                         0.035772       \n",
       "sars-cov-2_exam_result                                                                       0.027586       \n",
       "patient_addmited_to_regular_ward_(1=yes,_0=no)                                               0.010192       \n",
       "patient_addmited_to_semi-intensive_unit_(1=yes,...                                           0.008087       \n",
       "\n",
       "                                                    hematocrit  hemoglobin  \\\n",
       "patient_id                                            0.020071    0.014706   \n",
       "patient_age_quantile                                  0.031292    0.019498   \n",
       "sars-cov-2_exam_result                                0.037396    0.039530   \n",
       "patient_addmited_to_regular_ward_(1=yes,_0=no)        0.071569    0.075363   \n",
       "patient_addmited_to_semi-intensive_unit_(1=yes,...    0.161800    0.157295   \n",
       "\n",
       "                                                    platelets  \\\n",
       "patient_id                                           0.006948   \n",
       "patient_age_quantile                                 0.051183   \n",
       "sars-cov-2_exam_result                               0.106482   \n",
       "patient_addmited_to_regular_ward_(1=yes,_0=no)       0.150186   \n",
       "patient_addmited_to_semi-intensive_unit_(1=yes,...   0.006185   \n",
       "\n",
       "                                                    mean_platelet_volume  ...  \\\n",
       "patient_id                                                      0.008635  ...   \n",
       "patient_age_quantile                                            0.038392  ...   \n",
       "sars-cov-2_exam_result                                          0.040622  ...   \n",
       "patient_addmited_to_regular_ward_(1=yes,_0=no)                  0.010687  ...   \n",
       "patient_addmited_to_semi-intensive_unit_(1=yes,...              0.020840  ...   \n",
       "\n",
       "                                                    hb_saturation_(arterial_blood_gases)  \\\n",
       "patient_id                                                                      0.011604   \n",
       "patient_age_quantile                                                            0.016286   \n",
       "sars-cov-2_exam_result                                                          0.015189   \n",
       "patient_addmited_to_regular_ward_(1=yes,_0=no)                                  0.051133   \n",
       "patient_addmited_to_semi-intensive_unit_(1=yes,...                              0.199293   \n",
       "\n",
       "                                                    pco2_(arterial_blood_gas_analysis)  \\\n",
       "patient_id                                                                    0.011653   \n",
       "patient_age_quantile                                                          0.034110   \n",
       "sars-cov-2_exam_result                                                        0.037511   \n",
       "patient_addmited_to_regular_ward_(1=yes,_0=no)                                0.058510   \n",
       "patient_addmited_to_semi-intensive_unit_(1=yes,...                            0.040333   \n",
       "\n",
       "                                                    base_excess_(arterial_blood_gas_analysis)  \\\n",
       "patient_id                                                                           0.002840   \n",
       "patient_age_quantile                                                                 0.041484   \n",
       "sars-cov-2_exam_result                                                               0.015111   \n",
       "patient_addmited_to_regular_ward_(1=yes,_0=no)                                       0.008632   \n",
       "patient_addmited_to_semi-intensive_unit_(1=yes,...                                   0.080640   \n",
       "\n",
       "                                                    ph_(arterial_blood_gas_analysis)  \\\n",
       "patient_id                                                                  0.010472   \n",
       "patient_age_quantile                                                        0.041507   \n",
       "sars-cov-2_exam_result                                                      0.036451   \n",
       "patient_addmited_to_regular_ward_(1=yes,_0=no)                              0.052540   \n",
       "patient_addmited_to_semi-intensive_unit_(1=yes,...                          0.063793   \n",
       "\n",
       "                                                    total_co2_(arterial_blood_gas_analysis)  \\\n",
       "patient_id                                                                         0.005338   \n",
       "patient_age_quantile                                                               0.006264   \n",
       "sars-cov-2_exam_result                                                             0.028879   \n",
       "patient_addmited_to_regular_ward_(1=yes,_0=no)                                     0.041230   \n",
       "patient_addmited_to_semi-intensive_unit_(1=yes,...                                 0.040144   \n",
       "\n",
       "                                                    hco3_(arterial_blood_gas_analysis)  \\\n",
       "patient_id                                                                    0.004317   \n",
       "patient_age_quantile                                                          0.012090   \n",
       "sars-cov-2_exam_result                                                        0.024761   \n",
       "patient_addmited_to_regular_ward_(1=yes,_0=no)                                0.034427   \n",
       "patient_addmited_to_semi-intensive_unit_(1=yes,...                            0.048656   \n",
       "\n",
       "                                                    po2_(arterial_blood_gas_analysis)  \\\n",
       "patient_id                                                                   0.005510   \n",
       "patient_age_quantile                                                         0.007157   \n",
       "sars-cov-2_exam_result                                                       0.036186   \n",
       "patient_addmited_to_regular_ward_(1=yes,_0=no)                               0.027247   \n",
       "patient_addmited_to_semi-intensive_unit_(1=yes,...                           0.120723   \n",
       "\n",
       "                                                    arteiral_fio2  \\\n",
       "patient_id                                               0.021115   \n",
       "patient_age_quantile                                     0.021239   \n",
       "sars-cov-2_exam_result                                   0.030815   \n",
       "patient_addmited_to_regular_ward_(1=yes,_0=no)           0.040326   \n",
       "patient_addmited_to_semi-intensive_unit_(1=yes,...       0.025106   \n",
       "\n",
       "                                                        phosphor  \\\n",
       "patient_id                                          5.294190e-03   \n",
       "patient_age_quantile                                4.135060e-02   \n",
       "sars-cov-2_exam_result                              5.314858e-03   \n",
       "patient_addmited_to_regular_ward_(1=yes,_0=no)      1.377290e-18   \n",
       "patient_addmited_to_semi-intensive_unit_(1=yes,...  5.392442e-02   \n",
       "\n",
       "                                                    cto2_(arterial_blood_gas_analysis)  \n",
       "patient_id                                                                    0.003037  \n",
       "patient_age_quantile                                                          0.004455  \n",
       "sars-cov-2_exam_result                                                        0.030967  \n",
       "patient_addmited_to_regular_ward_(1=yes,_0=no)                                0.070462  \n",
       "patient_addmited_to_semi-intensive_unit_(1=yes,...                            0.017481  \n",
       "\n",
       "[5 rows x 111 columns]"
      ]
     },
     "execution_count": 9,
     "metadata": {},
     "output_type": "execute_result"
    }
   ],
   "source": [
    "# Calculate the covariance matrix\n",
    "\n",
    "corr_matrix = raw_data.corr().abs()\n",
    "corr_matrix.head()\n",
    "\n",
    "upper = corr_matrix.where(np.triu(np.ones(corr_matrix.shape), k=1).astype(np.bool))\n",
    "upper.head()"
   ]
  },
  {
   "cell_type": "code",
   "execution_count": 10,
   "metadata": {},
   "outputs": [
    {
     "name": "stdout",
     "output_type": "stream",
     "text": [
      "There are 28 columns to remove.\n",
      "Data shape:  (5644, 111)\n",
      "Size of the cleaned data (5644, 83)\n"
     ]
    }
   ],
   "source": [
    "threshold = 0.92\n",
    "to_drop = [column for column in upper.columns if any(upper[column] > threshold)]\n",
    "\n",
    "print('There are %d columns to remove.' % (len(to_drop)))\n",
    "dataset_rm = raw_data.drop(columns = to_drop) # dropped data\n",
    "print('Data shape: ', raw_data.shape)\n",
    "print('Size of the cleaned data', dataset_rm.shape)"
   ]
  },
  {
   "cell_type": "code",
   "execution_count": 11,
   "metadata": {},
   "outputs": [
    {
     "name": "stdout",
     "output_type": "stream",
     "text": [
      "<class 'pandas.core.frame.DataFrame'>\n",
      "RangeIndex: 5644 entries, 0 to 5643\n",
      "Columns: 83 entries, patient_id to cto2_(arterial_blood_gas_analysis)\n",
      "dtypes: float64(66), int32(13), int64(4)\n",
      "memory usage: 3.3 MB\n"
     ]
    },
    {
     "data": {
      "text/html": [
       "<div>\n",
       "<style scoped>\n",
       "    .dataframe tbody tr th:only-of-type {\n",
       "        vertical-align: middle;\n",
       "    }\n",
       "\n",
       "    .dataframe tbody tr th {\n",
       "        vertical-align: top;\n",
       "    }\n",
       "\n",
       "    .dataframe thead th {\n",
       "        text-align: right;\n",
       "    }\n",
       "</style>\n",
       "<table border=\"1\" class=\"dataframe\">\n",
       "  <thead>\n",
       "    <tr style=\"text-align: right;\">\n",
       "      <th></th>\n",
       "      <th>patient_id</th>\n",
       "      <th>patient_age_quantile</th>\n",
       "      <th>sars-cov-2_exam_result</th>\n",
       "      <th>patient_addmited_to_regular_ward_(1=yes,_0=no)</th>\n",
       "      <th>patient_addmited_to_semi-intensive_unit_(1=yes,_0=no)</th>\n",
       "      <th>patient_addmited_to_intensive_care_unit_(1=yes,_0=no)</th>\n",
       "      <th>hematocrit</th>\n",
       "      <th>platelets</th>\n",
       "      <th>mean_platelet_volume</th>\n",
       "      <th>red_blood_cells</th>\n",
       "      <th>...</th>\n",
       "      <th>d-dimer</th>\n",
       "      <th>albumin</th>\n",
       "      <th>hb_saturation_(arterial_blood_gases)</th>\n",
       "      <th>pco2_(arterial_blood_gas_analysis)</th>\n",
       "      <th>base_excess_(arterial_blood_gas_analysis)</th>\n",
       "      <th>total_co2_(arterial_blood_gas_analysis)</th>\n",
       "      <th>po2_(arterial_blood_gas_analysis)</th>\n",
       "      <th>arteiral_fio2</th>\n",
       "      <th>phosphor</th>\n",
       "      <th>cto2_(arterial_blood_gas_analysis)</th>\n",
       "    </tr>\n",
       "  </thead>\n",
       "  <tbody>\n",
       "    <tr>\n",
       "      <th>0</th>\n",
       "      <td>1588</td>\n",
       "      <td>13</td>\n",
       "      <td>0</td>\n",
       "      <td>0</td>\n",
       "      <td>0</td>\n",
       "      <td>0</td>\n",
       "      <td>-2.186214e-09</td>\n",
       "      <td>-3.535004e-10</td>\n",
       "      <td>7.438142e-09</td>\n",
       "      <td>8.424447e-09</td>\n",
       "      <td>...</td>\n",
       "      <td>-999.0</td>\n",
       "      <td>-5.731216e-09</td>\n",
       "      <td>-1.379737e-10</td>\n",
       "      <td>8.416397e-09</td>\n",
       "      <td>-1.655685e-09</td>\n",
       "      <td>-7.472139e-09</td>\n",
       "      <td>-2.469729e-08</td>\n",
       "      <td>4.656613e-09</td>\n",
       "      <td>6.332993e-09</td>\n",
       "      <td>5.243001e-09</td>\n",
       "    </tr>\n",
       "    <tr>\n",
       "      <th>1</th>\n",
       "      <td>451</td>\n",
       "      <td>17</td>\n",
       "      <td>0</td>\n",
       "      <td>0</td>\n",
       "      <td>0</td>\n",
       "      <td>0</td>\n",
       "      <td>2.365154e-01</td>\n",
       "      <td>-5.174130e-01</td>\n",
       "      <td>1.067657e-02</td>\n",
       "      <td>1.020042e-01</td>\n",
       "      <td>...</td>\n",
       "      <td>-999.0</td>\n",
       "      <td>-5.731216e-09</td>\n",
       "      <td>-1.379737e-10</td>\n",
       "      <td>8.416397e-09</td>\n",
       "      <td>-1.655685e-09</td>\n",
       "      <td>-7.472139e-09</td>\n",
       "      <td>-2.469729e-08</td>\n",
       "      <td>4.656613e-09</td>\n",
       "      <td>6.332993e-09</td>\n",
       "      <td>5.243001e-09</td>\n",
       "    </tr>\n",
       "    <tr>\n",
       "      <th>2</th>\n",
       "      <td>3669</td>\n",
       "      <td>8</td>\n",
       "      <td>0</td>\n",
       "      <td>0</td>\n",
       "      <td>0</td>\n",
       "      <td>0</td>\n",
       "      <td>-2.186214e-09</td>\n",
       "      <td>-3.535004e-10</td>\n",
       "      <td>7.438142e-09</td>\n",
       "      <td>8.424447e-09</td>\n",
       "      <td>...</td>\n",
       "      <td>-999.0</td>\n",
       "      <td>-5.731216e-09</td>\n",
       "      <td>-1.379737e-10</td>\n",
       "      <td>8.416397e-09</td>\n",
       "      <td>-1.655685e-09</td>\n",
       "      <td>-7.472139e-09</td>\n",
       "      <td>-2.469729e-08</td>\n",
       "      <td>4.656613e-09</td>\n",
       "      <td>6.332993e-09</td>\n",
       "      <td>5.243001e-09</td>\n",
       "    </tr>\n",
       "    <tr>\n",
       "      <th>3</th>\n",
       "      <td>5457</td>\n",
       "      <td>5</td>\n",
       "      <td>0</td>\n",
       "      <td>0</td>\n",
       "      <td>0</td>\n",
       "      <td>0</td>\n",
       "      <td>-2.186214e-09</td>\n",
       "      <td>-3.535004e-10</td>\n",
       "      <td>7.438142e-09</td>\n",
       "      <td>8.424447e-09</td>\n",
       "      <td>...</td>\n",
       "      <td>-999.0</td>\n",
       "      <td>-5.731216e-09</td>\n",
       "      <td>-1.379737e-10</td>\n",
       "      <td>8.416397e-09</td>\n",
       "      <td>-1.655685e-09</td>\n",
       "      <td>-7.472139e-09</td>\n",
       "      <td>-2.469729e-08</td>\n",
       "      <td>4.656613e-09</td>\n",
       "      <td>6.332993e-09</td>\n",
       "      <td>5.243001e-09</td>\n",
       "    </tr>\n",
       "    <tr>\n",
       "      <th>4</th>\n",
       "      <td>4843</td>\n",
       "      <td>15</td>\n",
       "      <td>0</td>\n",
       "      <td>0</td>\n",
       "      <td>0</td>\n",
       "      <td>0</td>\n",
       "      <td>-2.186214e-09</td>\n",
       "      <td>-3.535004e-10</td>\n",
       "      <td>7.438142e-09</td>\n",
       "      <td>8.424447e-09</td>\n",
       "      <td>...</td>\n",
       "      <td>-999.0</td>\n",
       "      <td>-5.731216e-09</td>\n",
       "      <td>-1.379737e-10</td>\n",
       "      <td>8.416397e-09</td>\n",
       "      <td>-1.655685e-09</td>\n",
       "      <td>-7.472139e-09</td>\n",
       "      <td>-2.469729e-08</td>\n",
       "      <td>4.656613e-09</td>\n",
       "      <td>6.332993e-09</td>\n",
       "      <td>5.243001e-09</td>\n",
       "    </tr>\n",
       "  </tbody>\n",
       "</table>\n",
       "<p>5 rows × 83 columns</p>\n",
       "</div>"
      ],
      "text/plain": [
       "   patient_id  patient_age_quantile  sars-cov-2_exam_result  \\\n",
       "0        1588                    13                       0   \n",
       "1         451                    17                       0   \n",
       "2        3669                     8                       0   \n",
       "3        5457                     5                       0   \n",
       "4        4843                    15                       0   \n",
       "\n",
       "   patient_addmited_to_regular_ward_(1=yes,_0=no)  \\\n",
       "0                                               0   \n",
       "1                                               0   \n",
       "2                                               0   \n",
       "3                                               0   \n",
       "4                                               0   \n",
       "\n",
       "   patient_addmited_to_semi-intensive_unit_(1=yes,_0=no)  \\\n",
       "0                                                  0       \n",
       "1                                                  0       \n",
       "2                                                  0       \n",
       "3                                                  0       \n",
       "4                                                  0       \n",
       "\n",
       "   patient_addmited_to_intensive_care_unit_(1=yes,_0=no)    hematocrit  \\\n",
       "0                                                  0     -2.186214e-09   \n",
       "1                                                  0      2.365154e-01   \n",
       "2                                                  0     -2.186214e-09   \n",
       "3                                                  0     -2.186214e-09   \n",
       "4                                                  0     -2.186214e-09   \n",
       "\n",
       "      platelets  mean_platelet_volume  red_blood_cells  ...  d-dimer  \\\n",
       "0 -3.535004e-10          7.438142e-09     8.424447e-09  ...   -999.0   \n",
       "1 -5.174130e-01          1.067657e-02     1.020042e-01  ...   -999.0   \n",
       "2 -3.535004e-10          7.438142e-09     8.424447e-09  ...   -999.0   \n",
       "3 -3.535004e-10          7.438142e-09     8.424447e-09  ...   -999.0   \n",
       "4 -3.535004e-10          7.438142e-09     8.424447e-09  ...   -999.0   \n",
       "\n",
       "        albumin  hb_saturation_(arterial_blood_gases)  \\\n",
       "0 -5.731216e-09                         -1.379737e-10   \n",
       "1 -5.731216e-09                         -1.379737e-10   \n",
       "2 -5.731216e-09                         -1.379737e-10   \n",
       "3 -5.731216e-09                         -1.379737e-10   \n",
       "4 -5.731216e-09                         -1.379737e-10   \n",
       "\n",
       "   pco2_(arterial_blood_gas_analysis)  \\\n",
       "0                        8.416397e-09   \n",
       "1                        8.416397e-09   \n",
       "2                        8.416397e-09   \n",
       "3                        8.416397e-09   \n",
       "4                        8.416397e-09   \n",
       "\n",
       "   base_excess_(arterial_blood_gas_analysis)  \\\n",
       "0                              -1.655685e-09   \n",
       "1                              -1.655685e-09   \n",
       "2                              -1.655685e-09   \n",
       "3                              -1.655685e-09   \n",
       "4                              -1.655685e-09   \n",
       "\n",
       "   total_co2_(arterial_blood_gas_analysis)  po2_(arterial_blood_gas_analysis)  \\\n",
       "0                            -7.472139e-09                      -2.469729e-08   \n",
       "1                            -7.472139e-09                      -2.469729e-08   \n",
       "2                            -7.472139e-09                      -2.469729e-08   \n",
       "3                            -7.472139e-09                      -2.469729e-08   \n",
       "4                            -7.472139e-09                      -2.469729e-08   \n",
       "\n",
       "   arteiral_fio2      phosphor  cto2_(arterial_blood_gas_analysis)  \n",
       "0   4.656613e-09  6.332993e-09                        5.243001e-09  \n",
       "1   4.656613e-09  6.332993e-09                        5.243001e-09  \n",
       "2   4.656613e-09  6.332993e-09                        5.243001e-09  \n",
       "3   4.656613e-09  6.332993e-09                        5.243001e-09  \n",
       "4   4.656613e-09  6.332993e-09                        5.243001e-09  \n",
       "\n",
       "[5 rows x 83 columns]"
      ]
     },
     "execution_count": 11,
     "metadata": {},
     "output_type": "execute_result"
    }
   ],
   "source": [
    "# Dataset contains selected features\n",
    "\n",
    "dataset_rm.info(verbose=False)\n",
    "dataset_rm.head()"
   ]
  },
  {
   "cell_type": "markdown",
   "metadata": {},
   "source": [
    "---"
   ]
  },
  {
   "cell_type": "markdown",
   "metadata": {},
   "source": [
    "> **TODO**\n",
    "\n",
    "**Try to Select or Create Meanful Features from ```raw_data```.**\n",
    "\n",
    "For example, try dimensionality reduction methods like [PCA](https://en.wikipedia.org/wiki/Principal_component_analysis) or [NMF](https://en.wikipedia.org/wiki/Non-negative_matrix_factorization#:~:text=Non-negative) or [Tree-Based models](https://scikit-learn.org/stable/modules/classes.html#module-sklearn.tree) to weight feature's importance. These tools can be easily found in [scikit-learn](https://scikit-learn.org/stable/modules/classes.html#module-sklearn.decomposition). But it is more encouraged for you to understand the principle behind them and implement them by yourself.\n",
    "\n",
    "> Requirements\n",
    "* Conduct feature engineering by using [scikit-learn](https://scikit-learn.org/stable/modules/classes.html#module-sklearn.decomposition) or your own implementation.\n",
    "* Compare the final test results obtained by your method in your report. \n",
    "* Note that you should first read through and complete other parts of this notebook so that you can start for comparison."
   ]
  },
  {
   "cell_type": "code",
   "execution_count": 151,
   "metadata": {},
   "outputs": [],
   "source": [
    "label_col = ['patient_id','sars-cov-2_exam_result', 'patient_addmited_to_regular_ward_(1=yes,_0=no)', 'patient_addmited_to_semi-intensive_unit_(1=yes,_0=no)', 'patient_addmited_to_intensive_care_unit_(1=yes,_0=no)']\n",
    "cols = [x for x in raw_data.columns if x not in label_col] # These columns are the features we can use to predict\n",
    "\n",
    "\"\"\"\n",
    "PCA实现-numpy\n",
    "\"\"\" \n",
    "# 映射的特征维度\n",
    "k = 100\n",
    "\n",
    "# 1.标准化 去除均值\n",
    "raw_data[cols] = raw_data[cols] - raw_data[cols].mean()\n",
    "\n",
    "# 2.计算协方差矩阵\n",
    "cov_matrix = raw_data[cols].cov().abs().to_numpy()\n",
    "\n",
    "# 3.求协方差矩阵的特征根和特征向量\n",
    "eigen_vals, eigen_vecs = np.linalg.eig(cov_matrix)\n",
    "\n",
    "# 4.选取主要成分:特征值前k大的特征向量对应的新空间\n",
    "eigen_val_inds = np.argsort(np.abs(eigen_vals))[-1-k:-1]\n",
    "W = eigen_vecs[:, eigen_val_inds]\n",
    "# W = eigen_vecs\n",
    "dataset_PCA = np.dot(raw_data[cols].to_numpy(), W)"
   ]
  },
  {
   "cell_type": "code",
   "execution_count": 12,
   "metadata": {},
   "outputs": [
    {
     "data": {
      "text/html": [
       "<div>\n",
       "<style scoped>\n",
       "    .dataframe tbody tr th:only-of-type {\n",
       "        vertical-align: middle;\n",
       "    }\n",
       "\n",
       "    .dataframe tbody tr th {\n",
       "        vertical-align: top;\n",
       "    }\n",
       "\n",
       "    .dataframe thead th {\n",
       "        text-align: right;\n",
       "    }\n",
       "</style>\n",
       "<table border=\"1\" class=\"dataframe\">\n",
       "  <thead>\n",
       "    <tr style=\"text-align: right;\">\n",
       "      <th></th>\n",
       "      <th>0</th>\n",
       "      <th>1</th>\n",
       "      <th>2</th>\n",
       "      <th>3</th>\n",
       "      <th>4</th>\n",
       "      <th>5</th>\n",
       "      <th>6</th>\n",
       "      <th>7</th>\n",
       "      <th>8</th>\n",
       "      <th>9</th>\n",
       "      <th>...</th>\n",
       "      <th>50</th>\n",
       "      <th>51</th>\n",
       "      <th>52</th>\n",
       "      <th>53</th>\n",
       "      <th>54</th>\n",
       "      <th>55</th>\n",
       "      <th>56</th>\n",
       "      <th>57</th>\n",
       "      <th>58</th>\n",
       "      <th>59</th>\n",
       "    </tr>\n",
       "  </thead>\n",
       "  <tbody>\n",
       "    <tr>\n",
       "      <th>0</th>\n",
       "      <td>-0.257237</td>\n",
       "      <td>0.146488</td>\n",
       "      <td>-0.034294</td>\n",
       "      <td>0.023786</td>\n",
       "      <td>-0.030312</td>\n",
       "      <td>-0.017538</td>\n",
       "      <td>0.054862</td>\n",
       "      <td>0.041972</td>\n",
       "      <td>-0.025122</td>\n",
       "      <td>0.039402</td>\n",
       "      <td>...</td>\n",
       "      <td>0.014161</td>\n",
       "      <td>-0.004215</td>\n",
       "      <td>-0.010016</td>\n",
       "      <td>0.015197</td>\n",
       "      <td>-0.010580</td>\n",
       "      <td>0.003589</td>\n",
       "      <td>0.008890</td>\n",
       "      <td>0.000522</td>\n",
       "      <td>-0.002178</td>\n",
       "      <td>-0.006153</td>\n",
       "    </tr>\n",
       "    <tr>\n",
       "      <th>1</th>\n",
       "      <td>0.327901</td>\n",
       "      <td>1.869794</td>\n",
       "      <td>-3.347866</td>\n",
       "      <td>0.772605</td>\n",
       "      <td>-1.388803</td>\n",
       "      <td>-1.462476</td>\n",
       "      <td>1.271801</td>\n",
       "      <td>1.029630</td>\n",
       "      <td>-2.819498</td>\n",
       "      <td>2.393101</td>\n",
       "      <td>...</td>\n",
       "      <td>2.193919</td>\n",
       "      <td>-2.147720</td>\n",
       "      <td>-0.029445</td>\n",
       "      <td>0.181668</td>\n",
       "      <td>-0.916607</td>\n",
       "      <td>-0.781689</td>\n",
       "      <td>-0.046557</td>\n",
       "      <td>0.147776</td>\n",
       "      <td>0.132490</td>\n",
       "      <td>-0.227650</td>\n",
       "    </tr>\n",
       "    <tr>\n",
       "      <th>2</th>\n",
       "      <td>-0.271449</td>\n",
       "      <td>0.095707</td>\n",
       "      <td>0.011489</td>\n",
       "      <td>0.018311</td>\n",
       "      <td>-0.031859</td>\n",
       "      <td>0.012230</td>\n",
       "      <td>0.001193</td>\n",
       "      <td>0.076568</td>\n",
       "      <td>-0.020402</td>\n",
       "      <td>0.042467</td>\n",
       "      <td>...</td>\n",
       "      <td>0.009946</td>\n",
       "      <td>0.011045</td>\n",
       "      <td>-0.009545</td>\n",
       "      <td>-0.000202</td>\n",
       "      <td>-0.002865</td>\n",
       "      <td>-0.001252</td>\n",
       "      <td>0.002453</td>\n",
       "      <td>0.004738</td>\n",
       "      <td>0.003446</td>\n",
       "      <td>-0.002547</td>\n",
       "    </tr>\n",
       "    <tr>\n",
       "      <th>3</th>\n",
       "      <td>-0.279976</td>\n",
       "      <td>0.065238</td>\n",
       "      <td>0.038958</td>\n",
       "      <td>0.015026</td>\n",
       "      <td>-0.032787</td>\n",
       "      <td>0.030091</td>\n",
       "      <td>-0.031009</td>\n",
       "      <td>0.097326</td>\n",
       "      <td>-0.017570</td>\n",
       "      <td>0.044306</td>\n",
       "      <td>...</td>\n",
       "      <td>0.007417</td>\n",
       "      <td>0.020201</td>\n",
       "      <td>-0.009263</td>\n",
       "      <td>-0.009441</td>\n",
       "      <td>0.001764</td>\n",
       "      <td>-0.004156</td>\n",
       "      <td>-0.001409</td>\n",
       "      <td>0.007268</td>\n",
       "      <td>0.006820</td>\n",
       "      <td>-0.000384</td>\n",
       "    </tr>\n",
       "    <tr>\n",
       "      <th>4</th>\n",
       "      <td>-0.171364</td>\n",
       "      <td>0.146342</td>\n",
       "      <td>-0.033713</td>\n",
       "      <td>0.000824</td>\n",
       "      <td>0.069736</td>\n",
       "      <td>-0.073495</td>\n",
       "      <td>0.087756</td>\n",
       "      <td>-0.063447</td>\n",
       "      <td>-0.008501</td>\n",
       "      <td>-0.055613</td>\n",
       "      <td>...</td>\n",
       "      <td>-0.022483</td>\n",
       "      <td>-0.058003</td>\n",
       "      <td>-0.010611</td>\n",
       "      <td>0.034907</td>\n",
       "      <td>-0.017794</td>\n",
       "      <td>-0.009062</td>\n",
       "      <td>-0.012400</td>\n",
       "      <td>-0.008161</td>\n",
       "      <td>0.005778</td>\n",
       "      <td>-0.001792</td>\n",
       "    </tr>\n",
       "  </tbody>\n",
       "</table>\n",
       "<p>5 rows × 60 columns</p>\n",
       "</div>"
      ],
      "text/plain": [
       "         0         1         2         3         4         5         6   \\\n",
       "0 -0.257237  0.146488 -0.034294  0.023786 -0.030312 -0.017538  0.054862   \n",
       "1  0.327901  1.869794 -3.347866  0.772605 -1.388803 -1.462476  1.271801   \n",
       "2 -0.271449  0.095707  0.011489  0.018311 -0.031859  0.012230  0.001193   \n",
       "3 -0.279976  0.065238  0.038958  0.015026 -0.032787  0.030091 -0.031009   \n",
       "4 -0.171364  0.146342 -0.033713  0.000824  0.069736 -0.073495  0.087756   \n",
       "\n",
       "         7         8         9   ...        50        51        52        53  \\\n",
       "0  0.041972 -0.025122  0.039402  ...  0.014161 -0.004215 -0.010016  0.015197   \n",
       "1  1.029630 -2.819498  2.393101  ...  2.193919 -2.147720 -0.029445  0.181668   \n",
       "2  0.076568 -0.020402  0.042467  ...  0.009946  0.011045 -0.009545 -0.000202   \n",
       "3  0.097326 -0.017570  0.044306  ...  0.007417  0.020201 -0.009263 -0.009441   \n",
       "4 -0.063447 -0.008501 -0.055613  ... -0.022483 -0.058003 -0.010611  0.034907   \n",
       "\n",
       "         54        55        56        57        58        59  \n",
       "0 -0.010580  0.003589  0.008890  0.000522 -0.002178 -0.006153  \n",
       "1 -0.916607 -0.781689 -0.046557  0.147776  0.132490 -0.227650  \n",
       "2 -0.002865 -0.001252  0.002453  0.004738  0.003446 -0.002547  \n",
       "3  0.001764 -0.004156 -0.001409  0.007268  0.006820 -0.000384  \n",
       "4 -0.017794 -0.009062 -0.012400 -0.008161  0.005778 -0.001792  \n",
       "\n",
       "[5 rows x 60 columns]"
      ]
     },
     "execution_count": 12,
     "metadata": {},
     "output_type": "execute_result"
    }
   ],
   "source": [
    "\"\"\"\n",
    "PCA实现 sklearn\n",
    "\"\"\"\n",
    "\n",
    "from sklearn.decomposition import PCA\n",
    "from sklearn.preprocessing import MinMaxScaler\n",
    "from sklearn.preprocessing import StandardScaler\n",
    "\n",
    "# 对原始数据PCA\n",
    "label_col = ['patient_id','sars-cov-2_exam_result', 'patient_addmited_to_regular_ward_(1=yes,_0=no)', 'patient_addmited_to_semi-intensive_unit_(1=yes,_0=no)', 'patient_addmited_to_intensive_care_unit_(1=yes,_0=no)']\n",
    "rd_cols = [x for x in raw_data.columns if x not in label_col] # These columns are the features we can use to predict\n",
    "\n",
    "dataset_raw = raw_data[rd_cols]\n",
    "\n",
    "raw_data_scale = MinMaxScaler().fit_transform(dataset_raw.to_numpy())\n",
    "raw_data_std = StandardScaler().fit_transform(raw_data_scale)\n",
    "\n",
    "dataset_pca = pd.DataFrame(PCA().fit_transform(raw_data_std))\n",
    "dataset_pca = pd.DataFrame(raw_data_std)\n",
    "\n",
    "# dataset_prepsc.head()\n",
    "\n",
    "# 对去除相关列后的数据进行PCA\n",
    "label_col = ['patient_id','sars-cov-2_exam_result', 'patient_addmited_to_regular_ward_(1=yes,_0=no)', 'patient_addmited_to_semi-intensive_unit_(1=yes,_0=no)', 'patient_addmited_to_intensive_care_unit_(1=yes,_0=no)']\n",
    "ds_cols = [x for x in dataset_rm.columns if x not in label_col] # These columns are the features we can use to predict\n",
    "\n",
    "dataset_rm = dataset_rm[ds_cols]\n",
    "dataset_rm_scale = MinMaxScaler().fit_transform(dataset_rm.to_numpy())\n",
    "dataset_rm_std = StandardScaler().fit_transform(dataset_rm_scale)\n",
    "\n",
    "dataset_rm_pca = pd.DataFrame(PCA(n_components=60).fit_transform(dataset_rm_std))\n",
    "# dataset_prepsc = pd.DataFrame(dataset_std)\n",
    "\n",
    "dataset_rm_pca.head()"
   ]
  },
  {
   "cell_type": "markdown",
   "metadata": {},
   "source": [
    "---"
   ]
  },
  {
   "cell_type": "markdown",
   "metadata": {},
   "source": [
    "> Create Dataset and Split Train/Test Data\n",
    "\n",
    "The following part builds up our dataset and split them into Train/Test Splits."
   ]
  },
  {
   "cell_type": "code",
   "execution_count": 13,
   "metadata": {},
   "outputs": [
    {
     "data": {
      "text/html": [
       "<div>\n",
       "<style scoped>\n",
       "    .dataframe tbody tr th:only-of-type {\n",
       "        vertical-align: middle;\n",
       "    }\n",
       "\n",
       "    .dataframe tbody tr th {\n",
       "        vertical-align: top;\n",
       "    }\n",
       "\n",
       "    .dataframe thead th {\n",
       "        text-align: right;\n",
       "    }\n",
       "</style>\n",
       "<table border=\"1\" class=\"dataframe\">\n",
       "  <thead>\n",
       "    <tr style=\"text-align: right;\">\n",
       "      <th></th>\n",
       "      <th>0</th>\n",
       "      <th>1</th>\n",
       "      <th>2</th>\n",
       "      <th>3</th>\n",
       "      <th>4</th>\n",
       "      <th>5</th>\n",
       "      <th>6</th>\n",
       "      <th>7</th>\n",
       "      <th>8</th>\n",
       "      <th>9</th>\n",
       "      <th>...</th>\n",
       "      <th>50</th>\n",
       "      <th>51</th>\n",
       "      <th>52</th>\n",
       "      <th>53</th>\n",
       "      <th>54</th>\n",
       "      <th>55</th>\n",
       "      <th>56</th>\n",
       "      <th>57</th>\n",
       "      <th>58</th>\n",
       "      <th>59</th>\n",
       "    </tr>\n",
       "  </thead>\n",
       "  <tbody>\n",
       "    <tr>\n",
       "      <th>0</th>\n",
       "      <td>-0.257237</td>\n",
       "      <td>0.146488</td>\n",
       "      <td>-0.034294</td>\n",
       "      <td>0.023786</td>\n",
       "      <td>-0.030312</td>\n",
       "      <td>-0.017538</td>\n",
       "      <td>0.054862</td>\n",
       "      <td>0.041972</td>\n",
       "      <td>-0.025122</td>\n",
       "      <td>0.039402</td>\n",
       "      <td>...</td>\n",
       "      <td>0.014161</td>\n",
       "      <td>-0.004215</td>\n",
       "      <td>-0.010016</td>\n",
       "      <td>0.015197</td>\n",
       "      <td>-0.010580</td>\n",
       "      <td>0.003589</td>\n",
       "      <td>0.008890</td>\n",
       "      <td>0.000522</td>\n",
       "      <td>-0.002178</td>\n",
       "      <td>-0.006153</td>\n",
       "    </tr>\n",
       "    <tr>\n",
       "      <th>1</th>\n",
       "      <td>0.327901</td>\n",
       "      <td>1.869794</td>\n",
       "      <td>-3.347866</td>\n",
       "      <td>0.772605</td>\n",
       "      <td>-1.388803</td>\n",
       "      <td>-1.462476</td>\n",
       "      <td>1.271801</td>\n",
       "      <td>1.029630</td>\n",
       "      <td>-2.819498</td>\n",
       "      <td>2.393101</td>\n",
       "      <td>...</td>\n",
       "      <td>2.193919</td>\n",
       "      <td>-2.147720</td>\n",
       "      <td>-0.029445</td>\n",
       "      <td>0.181668</td>\n",
       "      <td>-0.916607</td>\n",
       "      <td>-0.781689</td>\n",
       "      <td>-0.046557</td>\n",
       "      <td>0.147776</td>\n",
       "      <td>0.132490</td>\n",
       "      <td>-0.227650</td>\n",
       "    </tr>\n",
       "    <tr>\n",
       "      <th>2</th>\n",
       "      <td>-0.271449</td>\n",
       "      <td>0.095707</td>\n",
       "      <td>0.011489</td>\n",
       "      <td>0.018311</td>\n",
       "      <td>-0.031859</td>\n",
       "      <td>0.012230</td>\n",
       "      <td>0.001193</td>\n",
       "      <td>0.076568</td>\n",
       "      <td>-0.020402</td>\n",
       "      <td>0.042467</td>\n",
       "      <td>...</td>\n",
       "      <td>0.009946</td>\n",
       "      <td>0.011045</td>\n",
       "      <td>-0.009545</td>\n",
       "      <td>-0.000202</td>\n",
       "      <td>-0.002865</td>\n",
       "      <td>-0.001252</td>\n",
       "      <td>0.002453</td>\n",
       "      <td>0.004738</td>\n",
       "      <td>0.003446</td>\n",
       "      <td>-0.002547</td>\n",
       "    </tr>\n",
       "    <tr>\n",
       "      <th>3</th>\n",
       "      <td>-0.279976</td>\n",
       "      <td>0.065238</td>\n",
       "      <td>0.038958</td>\n",
       "      <td>0.015026</td>\n",
       "      <td>-0.032787</td>\n",
       "      <td>0.030091</td>\n",
       "      <td>-0.031009</td>\n",
       "      <td>0.097326</td>\n",
       "      <td>-0.017570</td>\n",
       "      <td>0.044306</td>\n",
       "      <td>...</td>\n",
       "      <td>0.007417</td>\n",
       "      <td>0.020201</td>\n",
       "      <td>-0.009263</td>\n",
       "      <td>-0.009441</td>\n",
       "      <td>0.001764</td>\n",
       "      <td>-0.004156</td>\n",
       "      <td>-0.001409</td>\n",
       "      <td>0.007268</td>\n",
       "      <td>0.006820</td>\n",
       "      <td>-0.000384</td>\n",
       "    </tr>\n",
       "    <tr>\n",
       "      <th>4</th>\n",
       "      <td>-0.171364</td>\n",
       "      <td>0.146342</td>\n",
       "      <td>-0.033713</td>\n",
       "      <td>0.000824</td>\n",
       "      <td>0.069736</td>\n",
       "      <td>-0.073495</td>\n",
       "      <td>0.087756</td>\n",
       "      <td>-0.063447</td>\n",
       "      <td>-0.008501</td>\n",
       "      <td>-0.055613</td>\n",
       "      <td>...</td>\n",
       "      <td>-0.022483</td>\n",
       "      <td>-0.058003</td>\n",
       "      <td>-0.010611</td>\n",
       "      <td>0.034907</td>\n",
       "      <td>-0.017794</td>\n",
       "      <td>-0.009062</td>\n",
       "      <td>-0.012400</td>\n",
       "      <td>-0.008161</td>\n",
       "      <td>0.005778</td>\n",
       "      <td>-0.001792</td>\n",
       "    </tr>\n",
       "  </tbody>\n",
       "</table>\n",
       "<p>5 rows × 60 columns</p>\n",
       "</div>"
      ],
      "text/plain": [
       "         0         1         2         3         4         5         6   \\\n",
       "0 -0.257237  0.146488 -0.034294  0.023786 -0.030312 -0.017538  0.054862   \n",
       "1  0.327901  1.869794 -3.347866  0.772605 -1.388803 -1.462476  1.271801   \n",
       "2 -0.271449  0.095707  0.011489  0.018311 -0.031859  0.012230  0.001193   \n",
       "3 -0.279976  0.065238  0.038958  0.015026 -0.032787  0.030091 -0.031009   \n",
       "4 -0.171364  0.146342 -0.033713  0.000824  0.069736 -0.073495  0.087756   \n",
       "\n",
       "         7         8         9   ...        50        51        52        53  \\\n",
       "0  0.041972 -0.025122  0.039402  ...  0.014161 -0.004215 -0.010016  0.015197   \n",
       "1  1.029630 -2.819498  2.393101  ...  2.193919 -2.147720 -0.029445  0.181668   \n",
       "2  0.076568 -0.020402  0.042467  ...  0.009946  0.011045 -0.009545 -0.000202   \n",
       "3  0.097326 -0.017570  0.044306  ...  0.007417  0.020201 -0.009263 -0.009441   \n",
       "4 -0.063447 -0.008501 -0.055613  ... -0.022483 -0.058003 -0.010611  0.034907   \n",
       "\n",
       "         54        55        56        57        58        59  \n",
       "0 -0.010580  0.003589  0.008890  0.000522 -0.002178 -0.006153  \n",
       "1 -0.916607 -0.781689 -0.046557  0.147776  0.132490 -0.227650  \n",
       "2 -0.002865 -0.001252  0.002453  0.004738  0.003446 -0.002547  \n",
       "3  0.001764 -0.004156 -0.001409  0.007268  0.006820 -0.000384  \n",
       "4 -0.017794 -0.009062 -0.012400 -0.008161  0.005778 -0.001792  \n",
       "\n",
       "[5 rows x 60 columns]"
      ]
     },
     "execution_count": 13,
     "metadata": {},
     "output_type": "execute_result"
    }
   ],
   "source": [
    "# X = dataset_raw # 原始数据特征列\n",
    "# X = dataset_rm # 原始数据删除相关列\n",
    "# X = pd.DataFrame(dataset_rm_std) # 原始数据删除相关列并标准化\n",
    "X = dataset_rm_pca # 原始数据删除后进行PCA\n",
    "\n",
    "X.head()"
   ]
  },
  {
   "cell_type": "code",
   "execution_count": 14,
   "metadata": {},
   "outputs": [
    {
     "data": {
      "text/html": [
       "<div>\n",
       "<style scoped>\n",
       "    .dataframe tbody tr th:only-of-type {\n",
       "        vertical-align: middle;\n",
       "    }\n",
       "\n",
       "    .dataframe tbody tr th {\n",
       "        vertical-align: top;\n",
       "    }\n",
       "\n",
       "    .dataframe thead th {\n",
       "        text-align: right;\n",
       "    }\n",
       "</style>\n",
       "<table border=\"1\" class=\"dataframe\">\n",
       "  <thead>\n",
       "    <tr style=\"text-align: right;\">\n",
       "      <th></th>\n",
       "      <th>0</th>\n",
       "      <th>1</th>\n",
       "      <th>2</th>\n",
       "      <th>3</th>\n",
       "      <th>4</th>\n",
       "      <th>5</th>\n",
       "      <th>6</th>\n",
       "      <th>7</th>\n",
       "      <th>8</th>\n",
       "      <th>9</th>\n",
       "      <th>...</th>\n",
       "      <th>50</th>\n",
       "      <th>51</th>\n",
       "      <th>52</th>\n",
       "      <th>53</th>\n",
       "      <th>54</th>\n",
       "      <th>55</th>\n",
       "      <th>56</th>\n",
       "      <th>57</th>\n",
       "      <th>58</th>\n",
       "      <th>59</th>\n",
       "    </tr>\n",
       "  </thead>\n",
       "  <tbody>\n",
       "    <tr>\n",
       "      <th>5248</th>\n",
       "      <td>-0.986074</td>\n",
       "      <td>-2.205672</td>\n",
       "      <td>0.853396</td>\n",
       "      <td>0.338827</td>\n",
       "      <td>-1.066904</td>\n",
       "      <td>-1.109503</td>\n",
       "      <td>-0.568422</td>\n",
       "      <td>-1.644856</td>\n",
       "      <td>1.742532</td>\n",
       "      <td>-0.569496</td>\n",
       "      <td>...</td>\n",
       "      <td>-0.339123</td>\n",
       "      <td>-0.200219</td>\n",
       "      <td>0.040935</td>\n",
       "      <td>-0.686042</td>\n",
       "      <td>0.372504</td>\n",
       "      <td>-0.246119</td>\n",
       "      <td>0.634047</td>\n",
       "      <td>-0.025513</td>\n",
       "      <td>-0.052859</td>\n",
       "      <td>-0.363309</td>\n",
       "    </tr>\n",
       "    <tr>\n",
       "      <th>2253</th>\n",
       "      <td>-0.262921</td>\n",
       "      <td>0.126176</td>\n",
       "      <td>-0.015981</td>\n",
       "      <td>0.021596</td>\n",
       "      <td>-0.030930</td>\n",
       "      <td>-0.005631</td>\n",
       "      <td>0.033394</td>\n",
       "      <td>0.055810</td>\n",
       "      <td>-0.023234</td>\n",
       "      <td>0.040628</td>\n",
       "      <td>...</td>\n",
       "      <td>0.012475</td>\n",
       "      <td>0.001889</td>\n",
       "      <td>-0.009828</td>\n",
       "      <td>0.009037</td>\n",
       "      <td>-0.007494</td>\n",
       "      <td>0.001653</td>\n",
       "      <td>0.006315</td>\n",
       "      <td>0.002209</td>\n",
       "      <td>0.000072</td>\n",
       "      <td>-0.004710</td>\n",
       "    </tr>\n",
       "    <tr>\n",
       "      <th>1394</th>\n",
       "      <td>-0.277134</td>\n",
       "      <td>0.075394</td>\n",
       "      <td>0.029802</td>\n",
       "      <td>0.016121</td>\n",
       "      <td>-0.032478</td>\n",
       "      <td>0.024137</td>\n",
       "      <td>-0.020275</td>\n",
       "      <td>0.090407</td>\n",
       "      <td>-0.018514</td>\n",
       "      <td>0.043693</td>\n",
       "      <td>...</td>\n",
       "      <td>0.008260</td>\n",
       "      <td>0.017149</td>\n",
       "      <td>-0.009357</td>\n",
       "      <td>-0.006361</td>\n",
       "      <td>0.000221</td>\n",
       "      <td>-0.003188</td>\n",
       "      <td>-0.000122</td>\n",
       "      <td>0.006424</td>\n",
       "      <td>0.005696</td>\n",
       "      <td>-0.001105</td>\n",
       "    </tr>\n",
       "    <tr>\n",
       "      <th>2662</th>\n",
       "      <td>-0.274291</td>\n",
       "      <td>0.085550</td>\n",
       "      <td>0.020645</td>\n",
       "      <td>0.017216</td>\n",
       "      <td>-0.032168</td>\n",
       "      <td>0.018184</td>\n",
       "      <td>-0.009541</td>\n",
       "      <td>0.083487</td>\n",
       "      <td>-0.019458</td>\n",
       "      <td>0.043080</td>\n",
       "      <td>...</td>\n",
       "      <td>0.009103</td>\n",
       "      <td>0.014097</td>\n",
       "      <td>-0.009451</td>\n",
       "      <td>-0.003282</td>\n",
       "      <td>-0.001322</td>\n",
       "      <td>-0.002220</td>\n",
       "      <td>0.001165</td>\n",
       "      <td>0.005581</td>\n",
       "      <td>0.004571</td>\n",
       "      <td>-0.001826</td>\n",
       "    </tr>\n",
       "    <tr>\n",
       "      <th>2784</th>\n",
       "      <td>-0.194298</td>\n",
       "      <td>-0.066919</td>\n",
       "      <td>0.233235</td>\n",
       "      <td>-0.098035</td>\n",
       "      <td>0.134837</td>\n",
       "      <td>-0.006755</td>\n",
       "      <td>-0.174595</td>\n",
       "      <td>-0.126211</td>\n",
       "      <td>0.035128</td>\n",
       "      <td>-0.082564</td>\n",
       "      <td>...</td>\n",
       "      <td>-0.090804</td>\n",
       "      <td>0.048290</td>\n",
       "      <td>-0.037695</td>\n",
       "      <td>-0.035671</td>\n",
       "      <td>0.033074</td>\n",
       "      <td>-0.021315</td>\n",
       "      <td>-0.030951</td>\n",
       "      <td>0.009059</td>\n",
       "      <td>0.022283</td>\n",
       "      <td>-0.001331</td>\n",
       "    </tr>\n",
       "  </tbody>\n",
       "</table>\n",
       "<p>5 rows × 60 columns</p>\n",
       "</div>"
      ],
      "text/plain": [
       "            0         1         2         3         4         5         6   \\\n",
       "5248 -0.986074 -2.205672  0.853396  0.338827 -1.066904 -1.109503 -0.568422   \n",
       "2253 -0.262921  0.126176 -0.015981  0.021596 -0.030930 -0.005631  0.033394   \n",
       "1394 -0.277134  0.075394  0.029802  0.016121 -0.032478  0.024137 -0.020275   \n",
       "2662 -0.274291  0.085550  0.020645  0.017216 -0.032168  0.018184 -0.009541   \n",
       "2784 -0.194298 -0.066919  0.233235 -0.098035  0.134837 -0.006755 -0.174595   \n",
       "\n",
       "            7         8         9   ...        50        51        52  \\\n",
       "5248 -1.644856  1.742532 -0.569496  ... -0.339123 -0.200219  0.040935   \n",
       "2253  0.055810 -0.023234  0.040628  ...  0.012475  0.001889 -0.009828   \n",
       "1394  0.090407 -0.018514  0.043693  ...  0.008260  0.017149 -0.009357   \n",
       "2662  0.083487 -0.019458  0.043080  ...  0.009103  0.014097 -0.009451   \n",
       "2784 -0.126211  0.035128 -0.082564  ... -0.090804  0.048290 -0.037695   \n",
       "\n",
       "            53        54        55        56        57        58        59  \n",
       "5248 -0.686042  0.372504 -0.246119  0.634047 -0.025513 -0.052859 -0.363309  \n",
       "2253  0.009037 -0.007494  0.001653  0.006315  0.002209  0.000072 -0.004710  \n",
       "1394 -0.006361  0.000221 -0.003188 -0.000122  0.006424  0.005696 -0.001105  \n",
       "2662 -0.003282 -0.001322 -0.002220  0.001165  0.005581  0.004571 -0.001826  \n",
       "2784 -0.035671  0.033074 -0.021315 -0.030951  0.009059  0.022283 -0.001331  \n",
       "\n",
       "[5 rows x 60 columns]"
      ]
     },
     "execution_count": 14,
     "metadata": {},
     "output_type": "execute_result"
    }
   ],
   "source": [
    "y = raw_data['sars-cov-2_exam_result'] # predict ```sars-cov-2_exam_result``` (Negative/Positive)\n",
    "\n",
    "# random split to Train/Test with the ratio of 2:1\n",
    "X_train, X_test, y_train, y_test = train_test_split(X, y, test_size = 0.33, random_state=101) # fixed random seed\n",
    "X_train.head()"
   ]
  },
  {
   "cell_type": "code",
   "execution_count": 15,
   "metadata": {},
   "outputs": [
    {
     "data": {
      "image/png": "[encoded data removed]",
      "text/plain": [
       "<Figure size 432x720 with 1 Axes>"
      ]
     },
     "metadata": {
      "needs_background": "light"
     },
     "output_type": "display_data"
    },
    {
     "data": {
      "image/png": "[encoded data removed]",
      "text/plain": [
       "<Figure size 432x720 with 1 Axes>"
      ]
     },
     "metadata": {
      "needs_background": "light"
     },
     "output_type": "display_data"
    },
    {
     "data": {
      "image/png": "[encoded data removed]",
      "text/plain": [
       "<Figure size 432x720 with 1 Axes>"
      ]
     },
     "metadata": {
      "needs_background": "light"
     },
     "output_type": "display_data"
    },
    {
     "data": {
      "image/png": "[encoded data removed]",
      "text/plain": [
       "<Figure size 432x720 with 1 Axes>"
      ]
     },
     "metadata": {
      "needs_background": "light"
     },
     "output_type": "display_data"
    },
    {
     "data": {
      "image/png": "[encoded data removed]",
      "text/plain": [
       "<Figure size 432x720 with 1 Axes>"
      ]
     },
     "metadata": {
      "needs_background": "light"
     },
     "output_type": "display_data"
    },
    {
     "data": {
      "image/png": "[encoded data removed]",
      "text/plain": [
       "<Figure size 432x720 with 1 Axes>"
      ]
     },
     "metadata": {
      "needs_background": "light"
     },
     "output_type": "display_data"
    },
    {
     "data": {
      "image/png": "[encoded data removed]",
      "text/plain": [
       "<Figure size 432x720 with 1 Axes>"
      ]
     },
     "metadata": {
      "needs_background": "light"
     },
     "output_type": "display_data"
    },
    {
     "data": {
      "image/png": "[encoded data removed]",
      "text/plain": [
       "<Figure size 432x720 with 1 Axes>"
      ]
     },
     "metadata": {
      "needs_background": "light"
     },
     "output_type": "display_data"
    },
    {
     "data": {
      "image/png": "[encoded data removed]",
      "text/plain": [
       "<Figure size 432x720 with 1 Axes>"
      ]
     },
     "metadata": {
      "needs_background": "light"
     },
     "output_type": "display_data"
    },
    {
     "data": {
      "image/png": "[encoded data removed]",
      "text/plain": [
       "<Figure size 432x720 with 1 Axes>"
      ]
     },
     "metadata": {
      "needs_background": "light"
     },
     "output_type": "display_data"
    },
    {
     "data": {
      "image/png": "[encoded data removed]",
      "text/plain": [
       "<Figure size 432x720 with 1 Axes>"
      ]
     },
     "metadata": {
      "needs_background": "light"
     },
     "output_type": "display_data"
    },
    {
     "data": {
      "image/png": "[encoded data removed]",
      "text/plain": [
       "<Figure size 432x720 with 1 Axes>"
      ]
     },
     "metadata": {
      "needs_background": "light"
     },
     "output_type": "display_data"
    },
    {
     "data": {
      "image/png": "[encoded data removed]",
      "text/plain": [
       "<Figure size 432x720 with 1 Axes>"
      ]
     },
     "metadata": {
      "needs_background": "light"
     },
     "output_type": "display_data"
    },
    {
     "data": {
      "image/png": "[encoded data removed]",
      "text/plain": [
       "<Figure size 432x720 with 1 Axes>"
      ]
     },
     "metadata": {
      "needs_background": "light"
     },
     "output_type": "display_data"
    },
    {
     "data": {
      "image/png": "[encoded data removed]",
      "text/plain": [
       "<Figure size 432x720 with 1 Axes>"
      ]
     },
     "metadata": {
      "needs_background": "light"
     },
     "output_type": "display_data"
    },
    {
     "data": {
      "image/png": "[encoded data removed]",
      "text/plain": [
       "<Figure size 432x720 with 1 Axes>"
      ]
     },
     "metadata": {
      "needs_background": "light"
     },
     "output_type": "display_data"
    },
    {
     "data": {
      "image/png": "[encoded data removed]",
      "text/plain": [
       "<Figure size 432x720 with 1 Axes>"
      ]
     },
     "metadata": {
      "needs_background": "light"
     },
     "output_type": "display_data"
    },
    {
     "data": {
      "image/png": "[encoded data removed]",
      "text/plain": [
       "<Figure size 432x720 with 1 Axes>"
      ]
     },
     "metadata": {
      "needs_background": "light"
     },
     "output_type": "display_data"
    },
    {
     "data": {
      "image/png": "[encoded data removed]",
      "text/plain": [
       "<Figure size 432x720 with 1 Axes>"
      ]
     },
     "metadata": {
      "needs_background": "light"
     },
     "output_type": "display_data"
    },
    {
     "data": {
      "image/png": "[encoded data removed]",
      "text/plain": [
       "<Figure size 432x720 with 1 Axes>"
      ]
     },
     "metadata": {
      "needs_background": "light"
     },
     "output_type": "display_data"
    },
    {
     "data": {
      "image/png": "[encoded data removed]",
      "text/plain": [
       "<Figure size 432x720 with 1 Axes>"
      ]
     },
     "metadata": {
      "needs_background": "light"
     },
     "output_type": "display_data"
    },
    {
     "data": {
      "image/png": "[encoded data removed]",
      "text/plain": [
       "<Figure size 432x720 with 1 Axes>"
      ]
     },
     "metadata": {
      "needs_background": "light"
     },
     "output_type": "display_data"
    },
    {
     "data": {
      "image/png": "[encoded data removed]",
      "text/plain": [
       "<Figure size 432x720 with 1 Axes>"
      ]
     },
     "metadata": {
      "needs_background": "light"
     },
     "output_type": "display_data"
    },
    {
     "data": {
      "image/png": "[encoded data removed]",
      "text/plain": [
       "<Figure size 432x720 with 1 Axes>"
      ]
     },
     "metadata": {
      "needs_background": "light"
     },
     "output_type": "display_data"
    },
    {
     "data": {
      "image/png": "[encoded data removed]",
      "text/plain": [
       "<Figure size 432x720 with 1 Axes>"
      ]
     },
     "metadata": {
      "needs_background": "light"
     },
     "output_type": "display_data"
    },
    {
     "data": {
      "image/png": "[encoded data removed]",
      "text/plain": [
       "<Figure size 432x720 with 1 Axes>"
      ]
     },
     "metadata": {
      "needs_background": "light"
     },
     "output_type": "display_data"
    },
    {
     "data": {
      "image/png": "[encoded data removed]",
      "text/plain": [
       "<Figure size 432x720 with 1 Axes>"
      ]
     },
     "metadata": {
      "needs_background": "light"
     },
     "output_type": "display_data"
    },
    {
     "data": {
      "image/png": "[encoded data removed]",
      "text/plain": [
       "<Figure size 432x720 with 1 Axes>"
      ]
     },
     "metadata": {
      "needs_background": "light"
     },
     "output_type": "display_data"
    },
    {
     "data": {
      "image/png": "[encoded data removed]",
      "text/plain": [
       "<Figure size 432x720 with 1 Axes>"
      ]
     },
     "metadata": {
      "needs_background": "light"
     },
     "output_type": "display_data"
    },
    {
     "data": {
      "image/png": "[encoded data removed]",
      "text/plain": [
       "<Figure size 432x720 with 1 Axes>"
      ]
     },
     "metadata": {
      "needs_background": "light"
     },
     "output_type": "display_data"
    }
   ],
   "source": [
    "# view train data\n",
    "def plot_scatter(X,y,v_num, is_numpy=False):\n",
    "    v_num = 1000\n",
    "    if is_numpy == False:\n",
    "        X = X.to_numpy()\n",
    "        y = y.to_numpy()\n",
    "    pos_slice = y[0:v_num]==1\n",
    "    neg_slice = y[0:v_num]==0\n",
    "    for i in np.arange(0, X.shape[1], 2):\n",
    "        pos_x = X[0:v_num][pos_slice][:, i: i + 2]\n",
    "        neg_x = X[0:v_num][neg_slice][:, i: i + 2]\n",
    "        plt.figure(figsize=(6,10))\n",
    "        plt.subplot(311)\n",
    "        plt.scatter(pos_x[:,0],pos_x[:,1],marker='+', c='red')\n",
    "        plt.scatter(neg_x[:,0],neg_x[:,1],marker='o', s = 2, c='lime')\n",
    "        plt.xlabel(f'feature{i}')\n",
    "        plt.ylabel(f'feature{i+1}')\n",
    "        plt.savefig(f'figures/scatter/feature{i}and{i+1}.png')\n",
    "        plt.show()\n",
    "\n",
    "plot_scatter(X_train, y_train, 100, False)"
   ]
  },
  {
   "cell_type": "markdown",
   "metadata": {},
   "source": [
    "---"
   ]
  },
  {
   "cell_type": "markdown",
   "metadata": {},
   "source": [
    "> **TODO**\n",
    "\n",
    "**Select and Train Your Model on ```X_train``` and ```y_train```**\n",
    "\n",
    "We provide an example of ```LogisticRegression``` and ```DecisionTreeClassifier```. Now it's time for your to select the model you like to conduct classification.\n",
    "\n",
    "> Requirements\n",
    "* Select at least **three** other Machine Learning models and train them on the Train split. And you should implement at least **one** by yourself."
   ]
  },
  {
   "cell_type": "code",
   "execution_count": null,
   "metadata": {},
   "outputs": [],
   "source": [
    "# 过采样\n",
    "from imblearn.over_sampling import RandomOverSampler\n",
    "\n",
    "ros = RandomOverSampler(random_state=0)\n",
    "X_resampled, y_resampled = ros.fit_resample(X_train, y_train)"
   ]
  },
  {
   "cell_type": "code",
   "execution_count": 15,
   "metadata": {},
   "outputs": [
    {
     "data": {
      "image/png": "[encoded data removed]",
      "text/plain": [
       "<Figure size 432x288 with 1 Axes>"
      ]
     },
     "metadata": {
      "needs_background": "light"
     },
     "output_type": "display_data"
    }
   ],
   "source": [
    "# 欠采样\n",
    "from imblearn.under_sampling import ClusterCentroids\n",
    "\n",
    "cc = ClusterCentroids(random_state=0)\n",
    "X_resampled, y_resampled = cc.fit_resample(X_train, y_train)\n",
    "\n",
    "v_num = 1000\n",
    "pos_slice = y_resampled[0:v_num]==1\n",
    "neg_slice = y_resampled[0:v_num]==0\n",
    "\n",
    "pos_x = X_resampled.to_numpy()[0:v_num][pos_slice][:, 8:10]\n",
    "neg_x = X_resampled.to_numpy()[0:v_num][neg_slice][:, 8:10]\n",
    "\n",
    "# print(pos_x[:,0])\n",
    "\n",
    "plt.scatter(neg_x[:,0],neg_x[:,1],marker='o')\n",
    "plt.scatter(pos_x[:,0],pos_x[:,1],marker='+')\n",
    "\n",
    "plt.show()"
   ]
  },
  {
   "cell_type": "code",
   "execution_count": 16,
   "metadata": {},
   "outputs": [],
   "source": [
    "# evaluate the model\n",
    "\n",
    "from sklearn.metrics import confusion_matrix, f1_score, recall_score, precision_score, roc_curve, auc, make_scorer\n",
    "\n",
    "def my_scoring(y_true, y_pred):\n",
    "    # 正确率在0.5范围上寻找最高recall-score\n",
    "    acc = sum(y_pred == y_true)/len(y_pred)\n",
    "    ans = 0\n",
    "    if acc > 0.5:\n",
    "        ans = recall_score(y_true, y_pred)\n",
    "    return ans\n",
    "\n",
    "def cross_recall_score(model, X, y):\n",
    "    sc = cross_val_score(model, X, y, scoring=make_scorer(my_scoring, greater_is_better=True))\n",
    "    sc = sc.mean()\n",
    "    print(sc)\n",
    "    return sc\n",
    "\n",
    "def tune_param(est, params):\n",
    "    max_sc = 0\n",
    "    best_param = {}\n",
    "    for param in params:\n",
    "        model = est(**param)\n",
    "        sc = cross_recall_score(model, X_train, y_train)\n",
    "        if sc  > max_sc:\n",
    "            max_sc = sc\n",
    "            best_param = param\n",
    "    return best_param, max_sc\n",
    "\n",
    "def evaluate_model(model, name, print_or_not:bool = True, need_fit = False):\n",
    "    performance = {}\n",
    "    \n",
    "    # cv_acc = 0\n",
    "    if name == 'K Nearest Neighbors' or name == 'Random Forest' or 'Decision Tree' or need_fit:\n",
    "        model.fit(X_train, y_train)\n",
    "        # print(cv_acc)\n",
    "        # cv_acc = cv_acc.mean()\n",
    "        # performance['cv_accuracy'] = cv_acc\n",
    "    prds = model.predict(X_test)\n",
    "    \n",
    "    accuracy = accuracy_score(y_test, prds)\n",
    "    performance['accuracy'] = accuracy\n",
    "    \n",
    "    conf_mat = confusion_matrix(y_test, prds)\n",
    "    performance['confusion_matrix'] = conf_mat\n",
    "    \n",
    "    \n",
    "    precision_sc = precision_score(y_test, prds)\n",
    "    performance['precision_score'] = precision_sc\n",
    "    \n",
    "    \n",
    "    recall_sc = recall_score(y_test, prds)\n",
    "    performance['recall_score'] = recall_sc\n",
    "    \n",
    "    f1_sc = f1_score(y_test, prds)\n",
    "    performance['f1_score'] = f1_sc\n",
    "    \n",
    "    if print_or_not == True:\n",
    "        print(f'evaluation of {name}:')\n",
    "        # print(f'Cross Validation\\'s Accuracy of {name}: {cv_acc}')\n",
    "        \n",
    "        print(f'Accuracy of {name}: {accuracy}')\n",
    "        print(f'Confussion Matrix of {name}:\\n{conf_mat}')\n",
    "        print(f\"Precision score of {name}: {precision_sc}\")\n",
    "        print(f\"Recall score of {name}: {recall_sc}\")\n",
    "        print(f\"F1 score of {name}: {f1_sc}\")\n",
    "    \n",
    "        if name != \"Support Vector Machine\":\n",
    "            y_score = model.predict_proba(X_test)[:, 1]\n",
    "            fpr, tpr, threshold = roc_curve(y_test, y_score)\n",
    "            roc_auc = auc(fpr, tpr)\n",
    "            plt.figure(figsize=(6,6))\n",
    "            plt.title('Validation ROC')\n",
    "            plt.plot(fpr, tpr, 'b', label = 'Val AUC = %0.3f' % roc_auc)\n",
    "            plt.legend(loc = 'lower right')\n",
    "            plt.plot([0, 1], [0, 1],'r--')\n",
    "            plt.xlim([0, 1])\n",
    "            plt.ylim([0, 1])\n",
    "            plt.ylabel('True Positive Rate')\n",
    "            plt.xlabel('False Positive Rate')\n",
    "            plt.show()\n",
    "            \n",
    "    return performance\n"
   ]
  },
  {
   "cell_type": "code",
   "execution_count": 17,
   "metadata": {},
   "outputs": [
    {
     "name": "stdout",
     "output_type": "stream",
     "text": [
      "0.36387559808612446\n",
      "0.42918660287081334\n",
      "0.533697881066302\n",
      "0.31425153793574845\n",
      "0.2236842105263158\n",
      "0.0\n",
      "0.0\n",
      "0.0\n",
      "0.0\n",
      "0.0\n",
      "selected param:{'class_weight': {1: 9.0, 0: 1}} best score:0.533697881066302\n"
     ]
    }
   ],
   "source": [
    "# 调整参数\n",
    "\n",
    "params = []\n",
    "for i in np.arange(8,13,0.5):\n",
    "    params.append({'class_weight': {1:i, 0:1}})\n",
    "param_sel, score = tune_param(LogisticRegression, params)\n",
    "print(f'selected param:{param_sel} best score:{score}')\n",
    "# evaluate_model(tree, \"Decision Tree\")"
   ]
  },
  {
   "cell_type": "code",
   "execution_count": 21,
   "metadata": {},
   "outputs": [],
   "source": [
    "accuracy_lst =[]\n",
    "\n",
    "def model_assess(model, name='Default'):\n",
    "    model.fit(X_train, y_train)\n",
    "    prds = model.predict(X_test)\n",
    "    model_acc = accuracy_score(y_test, prds)\n",
    "    accuracy_lst.append(100*model_acc)\n",
    "    print('Accuracy:', (accuracy_score(y_test, prds)), '\\n')\n",
    "    \n",
    "def model_assess_get_acc(model, name='Default'):\n",
    "    model.fit(X_train, y_train)\n",
    "    prds = model.predict(X_test)\n",
    "    # model_acc = accuracy_score(y_test, prds)\n",
    "    print('Accuracy:', (accuracy_score(y_test, prds)), '\\n')\n",
    "    return accuracy_score"
   ]
  },
  {
   "cell_type": "code",
   "execution_count": 18,
   "metadata": {},
   "outputs": [
    {
     "name": "stdout",
     "output_type": "stream",
     "text": [
      "evaluation of all_nagetive:\n",
      "Accuracy of all_nagetive: 0.90552871712292\n",
      "Confussion Matrix of all_nagetive:\n",
      "[[1687    0]\n",
      " [ 176    0]]\n",
      "Precision score of all_nagetive: 0.0\n",
      "Recall score of all_nagetive: 0.0\n",
      "F1 score of all_nagetive: 0.0\n"
     ]
    },
    {
     "data": {
      "image/png": "[encoded data removed]",
      "text/plain": [
       "<Figure size 432x432 with 1 Axes>"
      ]
     },
     "metadata": {
      "needs_background": "light"
     },
     "output_type": "display_data"
    },
    {
     "data": {
      "text/plain": [
       "{'accuracy': 0.90552871712292,\n",
       " 'confusion_matrix': array([[1687,    0],\n",
       "        [ 176,    0]], dtype=int64),\n",
       " 'precision_score': 0.0,\n",
       " 'recall_score': 0.0,\n",
       " 'f1_score': 0.0}"
      ]
     },
     "execution_count": 18,
     "metadata": {},
     "output_type": "execute_result"
    }
   ],
   "source": [
    "# naive model - all negative\n",
    "from sklearn.base import BaseEstimator\n",
    "\n",
    "class negative_model(BaseEstimator):\n",
    "    def __init__(self):\n",
    "        pass\n",
    "    \n",
    "    def fit(self, x_train, y_train):\n",
    "        pass\n",
    "    \n",
    "    def predict(self, x_test):\n",
    "        return np.zeros(shape = x_test.shape[0], dtype='int32')\n",
    "    \n",
    "    def predict_proba(self, x_test):\n",
    "        return np.full((x_test.shape[0],2), fill_value=[1,0])\n",
    "    \n",
    "neg_model = negative_model()\n",
    "evaluate_model(neg_model, 'all_nagetive')"
   ]
  },
  {
   "cell_type": "code",
   "execution_count": 19,
   "metadata": {},
   "outputs": [
    {
     "name": "stdout",
     "output_type": "stream",
     "text": [
      "evaluation of Logistic Regression:\n",
      "Accuracy of Logistic Regression: 0.5797101449275363\n",
      "Confussion Matrix of Logistic Regression:\n",
      "[[970 717]\n",
      " [ 66 110]]\n",
      "Precision score of Logistic Regression: 0.13301088270858524\n",
      "Recall score of Logistic Regression: 0.625\n",
      "F1 score of Logistic Regression: 0.2193419740777667\n"
     ]
    },
    {
     "data": {
      "image/png": "[encoded data removed]",
      "text/plain": [
       "<Figure size 432x432 with 1 Axes>"
      ]
     },
     "metadata": {
      "needs_background": "light"
     },
     "output_type": "display_data"
    },
    {
     "data": {
      "text/plain": [
       "{'accuracy': 0.5797101449275363,\n",
       " 'confusion_matrix': array([[970, 717],\n",
       "        [ 66, 110]], dtype=int64),\n",
       " 'precision_score': 0.13301088270858524,\n",
       " 'recall_score': 0.625,\n",
       " 'f1_score': 0.2193419740777667}"
      ]
     },
     "execution_count": 19,
     "metadata": {},
     "output_type": "execute_result"
    }
   ],
   "source": [
    "# Logistic Regression\n",
    "lg = LogisticRegression(class_weight={1:9, 0:1})\n",
    "evaluate_model(lg, 'Logistic Regression')"
   ]
  },
  {
   "cell_type": "code",
   "execution_count": 20,
   "metadata": {},
   "outputs": [
    {
     "name": "stdout",
     "output_type": "stream",
     "text": [
      "evaluation of Decision Tree:\n",
      "Accuracy of Decision Tree: 0.512614063338701\n",
      "Confussion Matrix of Decision Tree:\n",
      "[[850 837]\n",
      " [ 71 105]]\n",
      "Precision score of Decision Tree: 0.11146496815286625\n",
      "Recall score of Decision Tree: 0.5965909090909091\n",
      "F1 score of Decision Tree: 0.18783542039355994\n"
     ]
    },
    {
     "data": {
      "image/png": "[encoded data removed]",
      "text/plain": [
       "<Figure size 432x432 with 1 Axes>"
      ]
     },
     "metadata": {
      "needs_background": "light"
     },
     "output_type": "display_data"
    }
   ],
   "source": [
    "tree = DecisionTreeClassifier(class_weight={1:9, 0:1})\n",
    "pf = evaluate_model(tree, 'Decision Tree')"
   ]
  },
  {
   "cell_type": "code",
   "execution_count": 22,
   "metadata": {},
   "outputs": [
    {
     "name": "stdout",
     "output_type": "stream",
     "text": [
      "evaluation of Support Vector Machine:\n",
      "Accuracy of Support Vector Machine: 0.90552871712292\n",
      "Confussion Matrix of Support Vector Machine:\n",
      "[[1686    1]\n",
      " [ 175    1]]\n",
      "Precision score of Support Vector Machine: 0.5\n",
      "Recall score of Support Vector Machine: 0.005681818181818182\n",
      "F1 score of Support Vector Machine: 0.011235955056179775\n"
     ]
    },
    {
     "data": {
      "text/plain": [
       "{'accuracy': 0.90552871712292,\n",
       " 'confusion_matrix': array([[1686,    1],\n",
       "        [ 175,    1]], dtype=int64),\n",
       " 'precision_score': 0.5,\n",
       " 'recall_score': 0.005681818181818182,\n",
       " 'f1_score': 0.011235955056179775}"
      ]
     },
     "execution_count": 22,
     "metadata": {},
     "output_type": "execute_result"
    }
   ],
   "source": [
    "# kernel SVM\n",
    "from sklearn.svm import SVC\n",
    "\n",
    "SVM_model = SVC(kernel='rbf')\n",
    "evaluate_model(SVM_model, 'Support Vector Machine')"
   ]
  },
  {
   "cell_type": "code",
   "execution_count": null,
   "metadata": {},
   "outputs": [],
   "source": [
    "# RF\n",
    "from sklearn.ensemble import RandomForestClassifier\n",
    "\n",
    "params = []\n",
    "for i in np.arange(8,13,0.5):\n",
    "    params.append({'class_weight': {1:i, 0:1}})\n",
    "param_sel, score = tune_param(RandomForestClassifier, params)\n",
    "print(f'selected param:{param_sel} best score:{score}')\n",
    "# evaluate_model(tree, \"Decision Tree\")"
   ]
  },
  {
   "cell_type": "code",
   "execution_count": 25,
   "metadata": {},
   "outputs": [
    {
     "name": "stdout",
     "output_type": "stream",
     "text": [
      "evaluation of RF:\n",
      "Accuracy of RF: 0.49221685453569514\n",
      "Confussion Matrix of RF:\n",
      "[[812 875]\n",
      " [ 71 105]]\n",
      "Precision score of RF: 0.10714285714285714\n",
      "Recall score of RF: 0.5965909090909091\n",
      "F1 score of RF: 0.18166089965397925\n"
     ]
    },
    {
     "data": {
      "image/png": "[encoded data removed]",
      "text/plain": [
       "<Figure size 432x432 with 1 Axes>"
      ]
     },
     "metadata": {
      "needs_background": "light"
     },
     "output_type": "display_data"
    }
   ],
   "source": [
    "RF_model = RandomForestClassifier(class_weight={1:13, 0:1})\n",
    "pf = evaluate_model(RF_model, \"RF\")"
   ]
  },
  {
   "cell_type": "code",
   "execution_count": 26,
   "metadata": {},
   "outputs": [
    {
     "name": "stdout",
     "output_type": "stream",
     "text": [
      "evaluation of My Classifier:\n",
      "Accuracy of My Classifier: 0.703166935050993\n",
      "Confussion Matrix of My Classifier:\n",
      "[[1233  454]\n",
      " [  99   77]]\n",
      "Precision score of My Classifier: 0.14500941619585686\n",
      "Recall score of My Classifier: 0.4375\n",
      "F1 score of My Classifier: 0.21782178217821782\n"
     ]
    },
    {
     "data": {
      "image/png": "[encoded data removed]",
      "text/plain": [
       "<Figure size 432x432 with 1 Axes>"
      ]
     },
     "metadata": {
      "needs_background": "light"
     },
     "output_type": "display_data"
    }
   ],
   "source": [
    "# My classifier\n",
    "from sklearn.base import BaseEstimator\n",
    "from scipy.spatial import cKDTree\n",
    "\n",
    "class MyClassifier(BaseEstimator):\n",
    "    \n",
    "    def __init__(self, k=3, class_weight=100):\n",
    "        self.k = k\n",
    "        self.class_weight = class_weight\n",
    "\n",
    "    def fit(self, X_tr, y_tr):\n",
    "        self.X, idx = np.unique(X_tr.to_numpy(), axis=0, return_index=True) # 去重\n",
    "        self.y = y_tr.to_numpy()[idx]\n",
    "        self._data = cKDTree(self.X) # 存入kd-Tree，降低查询速率\n",
    "        \n",
    "    def predict(self, X_te):\n",
    "        y_proba = self.predict_proba(X_te)\n",
    "        y_pred = []\n",
    "        for i in range(len(y_proba)):\n",
    "            if y_proba[i, 1] > 0.5:\n",
    "                y_pred.append(1)\n",
    "            else:\n",
    "                y_pred.append(0)\n",
    "        return np.array(y_pred)\n",
    "\n",
    "    def _square_distance(self, v1, v2):\n",
    "        return np.sum(np.square(v1-v2))\n",
    "        \n",
    "    def predict_proba(self, X_te):\n",
    "        y_proba = []\n",
    "        for i in range(len(X_te)):\n",
    "            # print(X_te.to_numpy()[i])\n",
    "            dists, idx = self._data.query(x=X_te.to_numpy()[i], k=self.k)\n",
    "            # print(dists)\n",
    "            max_k_y = self.y[idx] # 前k大的样本\n",
    "            denom = 0\n",
    "            nume = 0\n",
    "            for j in range(self.k):\n",
    "                dist = dists[j]\n",
    "                denom = denom + (max_k_y[j] * self.class_weight + (max_k_y[j] == 0) ) / (dist + 0.001) # 更新分母\n",
    "                nume = nume + (max_k_y[j] * self.class_weight) / (dist + 0.001) # 更新分子\n",
    "                # print(f'{j}: {dist} {max_k_y[j]} {denom} {nume}')\n",
    "                \n",
    "            proba = nume / denom\n",
    "            y_proba.append([1-proba, proba])\n",
    "        return np.array(y_proba)\n",
    "        \n",
    "\n",
    "# clf = MyClassifier(10, 10)\n",
    "# clf.fit(X_train, y_train)\n",
    "# y_score = clf.predict_proba(X_test)\n",
    "# y_score\n",
    "evaluate_model(MyClassifier(10, 12), name='My Classifier', need_fit=True)\n",
    "clf = MyClassifier(10, 12)"
   ]
  },
  {
   "cell_type": "code",
   "execution_count": 27,
   "metadata": {},
   "outputs": [
    {
     "name": "stdout",
     "output_type": "stream",
     "text": [
      "evaluation of Naive_Bayes:\n",
      "Accuracy of Naive_Bayes: 0.8411164787976382\n",
      "Confussion Matrix of Naive_Bayes:\n",
      "[[1539  148]\n",
      " [ 148   28]]\n",
      "Precision score of Naive_Bayes: 0.1590909090909091\n",
      "Recall score of Naive_Bayes: 0.1590909090909091\n",
      "F1 score of Naive_Bayes: 0.1590909090909091\n"
     ]
    },
    {
     "data": {
      "image/png": "[encoded data removed]",
      "text/plain": [
       "<Figure size 432x432 with 1 Axes>"
      ]
     },
     "metadata": {
      "needs_background": "light"
     },
     "output_type": "display_data"
    },
    {
     "data": {
      "text/plain": [
       "{'accuracy': 0.8411164787976382,\n",
       " 'confusion_matrix': array([[1539,  148],\n",
       "        [ 148,   28]], dtype=int64),\n",
       " 'precision_score': 0.1590909090909091,\n",
       " 'recall_score': 0.1590909090909091,\n",
       " 'f1_score': 0.1590909090909091}"
      ]
     },
     "execution_count": 27,
     "metadata": {},
     "output_type": "execute_result"
    }
   ],
   "source": [
    "# GuassianDB\n",
    "from sklearn.naive_bayes import GaussianNB\n",
    "NB_model =GaussianNB()\n",
    "evaluate_model(NB_model, 'Naive_Bayes', need_fit=True )"
   ]
  },
  {
   "cell_type": "code",
   "execution_count": null,
   "metadata": {},
   "outputs": [],
   "source": [
    "# Demostrate model results on Train split\n",
    "\n",
    "model_list = ['Logistic Regression', 'DT']\n",
    "\n",
    "plt.rcParams['figure.figsize']=4,4\n",
    "sns.set_style('darkgrid')\n",
    "ax = sns.barplot(x=model_list, y = accuracy_lst, palette = \"coolwarm\", saturation =2.0)\n",
    "plt.xlabel('Classifier Models', fontsize = 12)\n",
    "plt.ylabel('% of Accuracy', fontsize = 12)\n",
    "plt.title('Accuracy(PCA, n=106)', fontsize = 16)\n",
    "plt.xticks(fontsize = 12, horizontalalignment = 'center')\n",
    "plt.yticks(fontsize = 12)\n",
    "for i in ax.patches:\n",
    "    width, height = i.get_width(), i.get_height()\n",
    "    x, y = i.get_xy() \n",
    "    ax.annotate(f'{round(height,2)}%', (x + width/2, y + height), ha='center', fontsize = 'x-large')\n",
    "plt.savefig(\"figures/LR_DT_Accuracy_PCA_n_106\")\n",
    "plt.show()\n"
   ]
  },
  {
   "cell_type": "code",
   "execution_count": 160,
   "metadata": {},
   "outputs": [],
   "source": [
    "# Cross-validaiton\n",
    "\n",
    "cross_acc = []\n",
    "\n",
    "ca_lg = cross_val_score(lg, X_train, y_train, scoring='accuracy')\n",
    "ca_lg = ca_lg.mean()\n",
    "cross_acc.append(100*ca_lg)\n",
    "\n",
    "ca_tree = cross_val_score(tree, X_train, y_train, scoring='accuracy')\n",
    "ca_tree = ca_tree.mean()\n",
    "cross_acc.append(100*ca_tree)"
   ]
  },
  {
   "cell_type": "code",
   "execution_count": null,
   "metadata": {},
   "outputs": [],
   "source": [
    "# Demostrate model results on Test split\n",
    "\n",
    "plt.rcParams['figure.figsize']=4,4\n",
    "sns.set_style('darkgrid')\n",
    "ax = sns.barplot(x=model_list, y=cross_acc, palette = \"rocket\", saturation =2.0)\n",
    "plt.xlabel('Classifier Models', fontsize = 12 )\n",
    "plt.ylabel('Cross validation Accuracy', fontsize = 12)\n",
    "plt.title('Accuracy of different Classifier Models', fontsize = 16)\n",
    "plt.xticks(fontsize = 12, horizontalalignment = 'center')\n",
    "plt.yticks(fontsize = 12)\n",
    "for i in ax.patches:\n",
    "    width, height = i.get_width(), i.get_height()\n",
    "    x, y = i.get_xy() \n",
    "    ax.annotate(f'{round(height,2)}%', (x + width/2, y + height), ha='center', fontsize = 'x-large')\n",
    "    \n",
    "plt.savefig(\"figures/LR_DT_Accuracy_version_0_cross_valid\")\n",
    "plt.show()"
   ]
  },
  {
   "cell_type": "markdown",
   "metadata": {},
   "source": [
    "---"
   ]
  },
  {
   "cell_type": "markdown",
   "metadata": {},
   "source": [
    "> **TODO**\n",
    "\n",
    "**Tune Model for Good Performance on Test Split**\n",
    "\n",
    "The final objective for training is to obtain a model that performs well on the unseen Test split (not to overfit the Train split). Now it is your time to provide the final solution.\n",
    "\n",
    "> Requirements\n",
    "* Try more evaluation methods (like Confusion Matrix, AUC curve and etc.) to make your results more convincing.\n",
    "* Tune model's hyperparameters by cross-validation and evaluate all your selected models. And give a detailed report on the performance and computational efficiency.\n",
    "* It is appreciated if other machine learning techniques that help to improve performance are employed."
   ]
  },
  {
   "cell_type": "code",
   "execution_count": 217,
   "metadata": {},
   "outputs": [],
   "source": [
    "# cross validation\n",
    "def cross_valid(model):\n",
    "    ca = cross_val_score(model, X_train, y_train, scoring='accuracy')\n",
    "    ca = ca.mean()\n",
    "    return cross_acc"
   ]
  },
  {
   "cell_type": "code",
   "execution_count": 29,
   "metadata": {},
   "outputs": [
    {
     "name": "stdout",
     "output_type": "stream",
     "text": [
      "evaluation of All Negative:\n",
      "Accuracy of All Negative: 0.90552871712292\n",
      "Confussion Matrix of All Negative:\n",
      "[[1687    0]\n",
      " [ 176    0]]\n",
      "Precision score of All Negative: 0.0\n",
      "Recall score of All Negative: 0.0\n",
      "F1 score of All Negative: 0.0\n"
     ]
    },
    {
     "data": {
      "image/png": "[encoded data removed]",
      "text/plain": [
       "<Figure size 432x432 with 1 Axes>"
      ]
     },
     "metadata": {},
     "output_type": "display_data"
    },
    {
     "name": "stdout",
     "output_type": "stream",
     "text": [
      "evaluation of Logistic Regression:\n",
      "Accuracy of Logistic Regression: 0.5797101449275363\n",
      "Confussion Matrix of Logistic Regression:\n",
      "[[970 717]\n",
      " [ 66 110]]\n",
      "Precision score of Logistic Regression: 0.13301088270858524\n",
      "Recall score of Logistic Regression: 0.625\n",
      "F1 score of Logistic Regression: 0.2193419740777667\n"
     ]
    },
    {
     "data": {
      "image/png": "[encoded data removed]",
      "text/plain": [
       "<Figure size 432x432 with 1 Axes>"
      ]
     },
     "metadata": {},
     "output_type": "display_data"
    },
    {
     "name": "stdout",
     "output_type": "stream",
     "text": [
      "evaluation of Decision Tree:\n",
      "Accuracy of Decision Tree: 0.5131508319914116\n",
      "Confussion Matrix of Decision Tree:\n",
      "[[851 836]\n",
      " [ 71 105]]\n",
      "Precision score of Decision Tree: 0.11158342189160468\n",
      "Recall score of Decision Tree: 0.5965909090909091\n",
      "F1 score of Decision Tree: 0.1880035810205909\n"
     ]
    },
    {
     "data": {
      "image/png": "[encoded data removed]",
      "text/plain": [
       "<Figure size 432x432 with 1 Axes>"
      ]
     },
     "metadata": {},
     "output_type": "display_data"
    },
    {
     "name": "stdout",
     "output_type": "stream",
     "text": [
      "evaluation of Random Forest:\n",
      "Accuracy of Random Forest: 0.4949006977992485\n",
      "Confussion Matrix of Random Forest:\n",
      "[[818 869]\n",
      " [ 72 104]]\n",
      "Precision score of Random Forest: 0.10688591983556012\n",
      "Recall score of Random Forest: 0.5909090909090909\n",
      "F1 score of Random Forest: 0.18102697998259354\n"
     ]
    },
    {
     "data": {
      "image/png": "[encoded data removed]",
      "text/plain": [
       "<Figure size 432x432 with 1 Axes>"
      ]
     },
     "metadata": {},
     "output_type": "display_data"
    },
    {
     "name": "stdout",
     "output_type": "stream",
     "text": [
      "evaluation of Support Vector Machine:\n",
      "Accuracy of Support Vector Machine: 0.90552871712292\n",
      "Confussion Matrix of Support Vector Machine:\n",
      "[[1686    1]\n",
      " [ 175    1]]\n",
      "Precision score of Support Vector Machine: 0.5\n",
      "Recall score of Support Vector Machine: 0.005681818181818182\n",
      "F1 score of Support Vector Machine: 0.011235955056179775\n",
      "evaluation of Improved K Nearest Neighbors:\n",
      "Accuracy of Improved K Nearest Neighbors: 0.703166935050993\n",
      "Confussion Matrix of Improved K Nearest Neighbors:\n",
      "[[1233  454]\n",
      " [  99   77]]\n",
      "Precision score of Improved K Nearest Neighbors: 0.14500941619585686\n",
      "Recall score of Improved K Nearest Neighbors: 0.4375\n",
      "F1 score of Improved K Nearest Neighbors: 0.21782178217821782\n"
     ]
    },
    {
     "data": {
      "image/png": "[encoded data removed]",
      "text/plain": [
       "<Figure size 432x432 with 1 Axes>"
      ]
     },
     "metadata": {},
     "output_type": "display_data"
    }
   ],
   "source": [
    "models = [neg_model, lg, tree, RF_model, SVM_model , clf]\n",
    "model_names = [\"All Negative\", \"Logistic Regression\", \"Decision Tree\", \"Random Forest\", \"Support Vector Machine\", \"Improved K Nearest Neighbors\"]\n",
    "\n",
    "for i in range(len(models)):\n",
    "    evaluate_model(models[i], model_names[i])"
   ]
  },
  {
   "cell_type": "markdown",
   "metadata": {},
   "source": [
    "---"
   ]
  },
  {
   "cell_type": "markdown",
   "metadata": {},
   "source": [
    "> **TODO**\n",
    "\n",
    "**Try to Predict for Another Task**\n",
    "\n",
    "Now, your are familiar with the simple pipeline of data mining. The final task for you is to explore the ```data/dataset.xlsx``` to predict one of the labels above:\n",
    "* ```patient_addmited_to_regular_ward_(1=yes,_0=no)```\n",
    "* ```patient_addmited_to_semi-intensive_unit_(1=yes,_0=no)```\n",
    "* ```patient_addmited_to_intensive_care_unit_(1=yes,_0=no)```\n",
    "\n",
    "> Requirements\n",
    "* Use **Row 5001-5645** of ```data/dataset.xlsx``` as the Test Split. Write code or a jupyter notebook to show how you solve this task. Please give detailed comments of your code and a good demonstration of your results.\n"
   ]
  },
  {
   "cell_type": "markdown",
   "metadata": {},
   "source": [
    "该部分代码在`predict_task.md`中"
   ]
  },
  {
   "cell_type": "markdown",
   "metadata": {},
   "source": [
    "---"
   ]
  }
 ],
 "metadata": {
  "interpreter": {
   "hash": "290521414a55aa94db96ff029e481d692f7b0df4b767dc6193459e3cbfff4830"
  },
  "kernelspec": {
   "display_name": "Python 3.9.12 ('AI-AS2-env')",
   "language": "python",
   "name": "python3"
  },
  "language_info": {
   "codemirror_mode": {
    "name": "ipython",
    "version": 3
   },
   "file_extension": ".py",
   "mimetype": "text/x-python",
   "name": "python",
   "nbconvert_exporter": "python",
   "pygments_lexer": "ipython3",
   "version": "3.9.12"
  },
  "orig_nbformat": 4
 },
 "nbformat": 4,
 "nbformat_minor": 2
}
